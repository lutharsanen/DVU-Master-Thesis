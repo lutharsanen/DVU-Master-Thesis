{
 "cells": [
  {
   "cell_type": "code",
   "execution_count": 1,
   "id": "ordinary-commander",
   "metadata": {},
   "outputs": [],
   "source": [
    "from PIL import Image"
   ]
  },
  {
   "cell_type": "code",
   "execution_count": 2,
   "id": "third-target",
   "metadata": {},
   "outputs": [],
   "source": [
    "im = Image.open(\"download.jpeg\")"
   ]
  },
  {
   "cell_type": "code",
   "execution_count": 7,
   "id": "interracial-omega",
   "metadata": {},
   "outputs": [],
   "source": [
    "im.show()"
   ]
  },
  {
   "cell_type": "code",
   "execution_count": 9,
   "id": "nuclear-composer",
   "metadata": {},
   "outputs": [],
   "source": [
    "im2 = im.crop([40,40,130,130])\n",
    "im2.show()"
   ]
  },
  {
   "cell_type": "code",
   "execution_count": 10,
   "id": "electrical-amsterdam",
   "metadata": {},
   "outputs": [],
   "source": [
    "im2 = im.crop([1,1,150,150])\n",
    "im2.show()"
   ]
  },
  {
   "cell_type": "code",
   "execution_count": 12,
   "id": "exact-cleanup",
   "metadata": {},
   "outputs": [
    {
     "data": {
      "text/plain": [
       "'/media/lkunam/DVU-Challenge/bad.jpeg'"
      ]
     },
     "execution_count": 12,
     "metadata": {},
     "output_type": "execute_result"
    }
   ],
   "source": [
    "import shutil\n",
    "\n",
    "shutil.copyfile(\"download.jpeg\", \"/media/lkunam/DVU-Challenge/bad.jpeg\")"
   ]
  }
 ],
 "metadata": {
  "kernelspec": {
   "display_name": "deepface",
   "language": "python",
   "name": "myenv"
  },
  "language_info": {
   "codemirror_mode": {
    "name": "ipython",
    "version": 3
   },
   "file_extension": ".py",
   "mimetype": "text/x-python",
   "name": "python",
   "nbconvert_exporter": "python",
   "pygments_lexer": "ipython3",
   "version": "3.9.7"
  }
 },
 "nbformat": 4,
 "nbformat_minor": 5
}
