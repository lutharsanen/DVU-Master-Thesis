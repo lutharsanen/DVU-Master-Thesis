{
 "cells": [
  {
   "cell_type": "code",
   "execution_count": 9,
   "id": "bearing-encyclopedia",
   "metadata": {},
   "outputs": [],
   "source": [
    "from collections import Counter\n",
    "import shutil\n",
    "import os\n",
    "from retinaface import RetinaFace\n",
    "from deepface import DeepFace\n",
    "from PIL import Image\n",
    "from tqdm import tqdm\n",
    "\n",
    "def enlargen_image(border):\n",
    "    border[0]-=20\n",
    "    border[1]-=20\n",
    "    border[2]+=20\n",
    "    border[3]+=20\n",
    "    return border\n",
    "\n",
    "def euclidean_distance_check(border, border_list):\n",
    "    result_border = []\n",
    "    borders = [i[0] for i in border_list]\n",
    "    for compare_border in borders:\n",
    "        dist = np.linalg.norm(np.array(border) - np.array(compare_border))\n",
    "        if dist < 25:\n",
    "            border_list_index = result_border.index(compare_border)\n",
    "            result_border.apend(border_list[border_list_index])\n",
    "    if len(result_border) == 0:\n",
    "        return 0\n",
    "    resulting_name = [i[2] for i in result_border]\n",
    "    c = Counter(resulting_name)\n",
    "    value, count = c.most_common()[0]\n",
    "    return value"
   ]
  },
  {
   "cell_type": "code",
   "execution_count": 10,
   "id": "daily-north",
   "metadata": {},
   "outputs": [
    {
     "name": "stderr",
     "output_type": "stream",
     "text": [
      "\r",
      "  0%|                                                    | 0/23 [00:00<?, ?it/s]"
     ]
    },
    {
     "name": "stdout",
     "output_type": "stream",
     "text": [
      "WARNING: Representations for images in  /media/lkunam/DVU-Challenge/HLVU/movie_knowledge_graph/honey/image/Person/  folder were previously stored in  representations_vgg_face.pkl . If you added new instances after this file creation, then please delete this file and call find function again. It will create it again.\n",
      "There are  54  representations found in  representations_vgg_face.pkl\n"
     ]
    },
    {
     "name": "stderr",
     "output_type": "stream",
     "text": [
      "\r",
      "  0%|                                                    | 0/23 [01:08<?, ?it/s]"
     ]
    },
    {
     "name": "stdout",
     "output_type": "stream",
     "text": [
      "find function lasts  1.3049342632293701  seconds\n",
      "/media/lkunam/DVU-Challenge/HLVU/movie_knowledge_graph/honey/image/Person/Mike/Mike_6.png\n",
      "n\n"
     ]
    },
    {
     "name": "stderr",
     "output_type": "stream",
     "text": [
      "\n"
     ]
    },
    {
     "ename": "FileNotFoundError",
     "evalue": "[Errno 2] No such file or directory: '/media/lkunam/DVU-Challenge/HLVU/movie_knowledge_graph/honey/image/Person/n/n_new_shot_0007_img_1'",
     "output_type": "error",
     "traceback": [
      "\u001b[0;31m---------------------------------------------------------------------------\u001b[0m",
      "\u001b[0;31mFileNotFoundError\u001b[0m                         Traceback (most recent call last)",
      "Input \u001b[0;32mIn [10]\u001b[0m, in \u001b[0;36m<module>\u001b[0;34m\u001b[0m\n\u001b[1;32m     35\u001b[0m     \u001b[38;5;28mprint\u001b[39m(name)\n\u001b[1;32m     36\u001b[0m     \u001b[38;5;66;03m#name = \"{img_path}/{movies}/{shots}/{shot}/{image}\"\u001b[39;00m\n\u001b[0;32m---> 37\u001b[0m     \u001b[43mshutil\u001b[49m\u001b[38;5;241;43m.\u001b[39;49m\u001b[43mcopyfile\u001b[49m\u001b[43m(\u001b[49m\u001b[38;5;124;43m\"\u001b[39;49m\u001b[38;5;124;43mcropped.jpg\u001b[39;49m\u001b[38;5;124;43m\"\u001b[39;49m\u001b[43m,\u001b[49m\u001b[43m \u001b[49m\u001b[38;5;124;43mf\u001b[39;49m\u001b[38;5;124;43m\"\u001b[39;49m\u001b[38;5;124;43m/media/lkunam/DVU-Challenge/HLVU/movie_knowledge_graph/\u001b[39;49m\u001b[38;5;132;43;01m{\u001b[39;49;00m\u001b[43mmovies\u001b[49m\u001b[38;5;132;43;01m}\u001b[39;49;00m\u001b[38;5;124;43m/image/Person/\u001b[39;49m\u001b[38;5;132;43;01m{\u001b[39;49;00m\u001b[43mname\u001b[49m\u001b[38;5;132;43;01m}\u001b[39;49;00m\u001b[38;5;124;43m/\u001b[39;49m\u001b[38;5;132;43;01m{\u001b[39;49;00m\u001b[43mname\u001b[49m\u001b[38;5;132;43;01m}\u001b[39;49;00m\u001b[38;5;124;43m_new_\u001b[39;49m\u001b[38;5;132;43;01m{\u001b[39;49;00m\u001b[43mimage\u001b[49m\u001b[43m[\u001b[49m\u001b[43m:\u001b[49m\u001b[38;5;241;43m-\u001b[39;49m\u001b[38;5;241;43m4\u001b[39;49m\u001b[43m]\u001b[49m\u001b[38;5;132;43;01m}\u001b[39;49;00m\u001b[38;5;124;43m\"\u001b[39;49m\u001b[43m)\u001b[49m\n\u001b[1;32m     38\u001b[0m     border_list\u001b[38;5;241m.\u001b[39mappend([border,image,name])\n\u001b[1;32m     40\u001b[0m \u001b[38;5;28;01mexcept\u001b[39;00m \u001b[38;5;167;01mValueError\u001b[39;00m:\n\u001b[1;32m     41\u001b[0m     \u001b[38;5;66;03m#print(\"No face was able to be matched\")\u001b[39;00m\n",
      "File \u001b[0;32m/usr/lib/python3.9/shutil.py:265\u001b[0m, in \u001b[0;36mcopyfile\u001b[0;34m(src, dst, follow_symlinks)\u001b[0m\n\u001b[1;32m    263\u001b[0m \u001b[38;5;28;01melse\u001b[39;00m:\n\u001b[1;32m    264\u001b[0m     \u001b[38;5;28;01mtry\u001b[39;00m:\n\u001b[0;32m--> 265\u001b[0m         \u001b[38;5;28;01mwith\u001b[39;00m \u001b[38;5;28mopen\u001b[39m(src, \u001b[38;5;124m'\u001b[39m\u001b[38;5;124mrb\u001b[39m\u001b[38;5;124m'\u001b[39m) \u001b[38;5;28;01mas\u001b[39;00m fsrc, \u001b[38;5;28;43mopen\u001b[39;49m\u001b[43m(\u001b[49m\u001b[43mdst\u001b[49m\u001b[43m,\u001b[49m\u001b[43m \u001b[49m\u001b[38;5;124;43m'\u001b[39;49m\u001b[38;5;124;43mwb\u001b[39;49m\u001b[38;5;124;43m'\u001b[39;49m\u001b[43m)\u001b[49m \u001b[38;5;28;01mas\u001b[39;00m fdst:\n\u001b[1;32m    266\u001b[0m             \u001b[38;5;66;03m# macOS\u001b[39;00m\n\u001b[1;32m    267\u001b[0m             \u001b[38;5;28;01mif\u001b[39;00m _HAS_FCOPYFILE:\n\u001b[1;32m    268\u001b[0m                 \u001b[38;5;28;01mtry\u001b[39;00m:\n",
      "\u001b[0;31mFileNotFoundError\u001b[0m: [Errno 2] No such file or directory: '/media/lkunam/DVU-Challenge/HLVU/movie_knowledge_graph/honey/image/Person/n/n_new_shot_0007_img_1'"
     ]
    }
   ],
   "source": [
    "img_path = \"/media/lkunam/DVU-Challenge/HLVU/keyframes/shot_keyf\"\n",
    "\n",
    "#for movies in os.listdir(img_path):\n",
    "backends = ['opencv', 'ssd', 'dlib', 'mtcnn', 'retinaface']\n",
    "\n",
    "\n",
    "movies = \"honey\"\n",
    "shotlist = os.listdir(f\"{img_path}/{movies}\")\n",
    "orderedshotlist = [i.partition('-')[2] for i in shotlist]\n",
    "for i in tqdm(range(len(shotlist))):\n",
    "    num = i+1\n",
    "    list_index = orderedshotlist.index(str(num))\n",
    "    shots = shotlist[list_index]\n",
    "    for shot in os.listdir(f\"{img_path}/{movies}/{shots}\"):\n",
    "        border_list = []\n",
    "        for image in os.listdir(f\"{img_path}/{movies}/{shots}/{shot}\"):\n",
    "            #print(image)\n",
    "            #print(f\"{img_path}/{movies}/{shots}/{shot}/{image}\")\n",
    "            resp = RetinaFace.detect_faces(f\"{img_path}/{movies}/{shots}/{shot}/{image}\")\n",
    "            #print(len(resp))\n",
    "            #print(resp)\n",
    "            if len(resp) > 0 and type(resp) == dict:\n",
    "                for face in resp:\n",
    "                    border = resp[face][\"facial_area\"]\n",
    "                    border_list.append((border,image))\n",
    "                    enlarged_border = enlargen_image(border)\n",
    "                    im = Image.open(f\"{img_path}/{movies}/{shots}/{shot}/{image}\")\n",
    "                    im1 = im.crop(enlarged_border)\n",
    "                    im1.save(\"cropped.jpg\")\n",
    "                    try:\n",
    "                        df = DeepFace.find(img_path = \"cropped.jpg\", db_path = f\"/media/lkunam/DVU-Challenge/HLVU/movie_knowledge_graph/{movies}/image/Person/\", detector_backend = backends[4])\n",
    "                        result = df[\"identity\"][0]\n",
    "                        print(result)\n",
    "                        name = result[-17:].partition('/')[0]\n",
    "                        print(name)\n",
    "                        #name = \"{img_path}/{movies}/{shots}/{shot}/{image}\"\n",
    "                        shutil.copyfile(\"cropped.jpg\", f\"/media/lkunam/DVU-Challenge/HLVU/movie_knowledge_graph/{movies}/image/Person/{name}/{name}_new_{image[:-4]}\")\n",
    "                        border_list.append([border,image,name])\n",
    "                        \n",
    "                    except ValueError:\n",
    "                        #print(\"No face was able to be matched\")\n",
    "                        result_name = euclidean_distance_check(border, border_list)\n",
    "                        if result_border!=0:\n",
    "                            shutil.copyfile(\"cropped.jpg\", f\"/media/lkunam/DVU-Challenge/HLVU/movie_knowledge_graph/{movies}/image/Person/{result_name}/{result_name}_new_{image[:-4]}\")\n",
    "                            border_list.append([border,image,name])\n",
    "                            \n",
    "    \n",
    "        \n",
    "            \n",
    "       "
   ]
  },
  {
   "cell_type": "code",
   "execution_count": 5,
   "id": "working-respect",
   "metadata": {},
   "outputs": [],
   "source": [
    "from retinaface import RetinaFace\n",
    "from PIL import Image\n",
    "\n",
    "resp = RetinaFace.detect_faces(\"test4.jpg\")\n",
    "resp2 = RetinaFace.detect_faces(\"test3.jpg\")"
   ]
  },
  {
   "cell_type": "code",
   "execution_count": 6,
   "id": "fourth-small",
   "metadata": {},
   "outputs": [
    {
     "data": {
      "text/plain": [
       "{'face_1': {'score': 0.9981447458267212,\n",
       "  'facial_area': [416, 114, 511, 265],\n",
       "  'landmarks': {'right_eye': [432.88034, 178.34978],\n",
       "   'left_eye': [438.27887, 179.93327],\n",
       "   'nose': [419.61658, 214.01395],\n",
       "   'mouth_right': [453.28085, 233.6525],\n",
       "   'mouth_left': [455.96082, 233.37381]}},\n",
       " 'face_2': {'score': 0.9947980642318726,\n",
       "  'facial_area': [133, 90, 249, 218],\n",
       "  'landmarks': {'right_eye': [184.76659, 135.75351],\n",
       "   'left_eye': [231.91867, 153.49825],\n",
       "   'nose': [206.01382, 180.05284],\n",
       "   'mouth_right': [165.05785, 183.18796],\n",
       "   'mouth_left': [204.24113, 197.64708]}}}"
      ]
     },
     "execution_count": 6,
     "metadata": {},
     "output_type": "execute_result"
    }
   ],
   "source": [
    "resp2"
   ]
  },
  {
   "cell_type": "code",
   "execution_count": 97,
   "id": "secret-oliver",
   "metadata": {},
   "outputs": [
    {
     "name": "stdout",
     "output_type": "stream",
     "text": [
      "WARNING: Representations for images in  /media/lkunam/DVU-Challenge/HLVU/movie_knowledge_graph/honey/image/Person/  folder were previously stored in  representations_vgg_face.pkl . If you added new instances after this file creation, then please delete this file and call find function again. It will create it again.\n",
      "There are  54  representations found in  representations_vgg_face.pkl\n",
      "No face was able to be matched\n",
      "WARNING: Representations for images in  /media/lkunam/DVU-Challenge/HLVU/movie_knowledge_graph/honey/image/Person/  folder were previously stored in  representations_vgg_face.pkl . If you added new instances after this file creation, then please delete this file and call find function again. It will create it again.\n",
      "There are  54  representations found in  representations_vgg_face.pkl\n",
      "No face was able to be matched\n"
     ]
    }
   ],
   "source": [
    "for face in resp:\n",
    "    border = resp[face][\"facial_area\"]\n",
    "    im = Image.open(\"test3.jpg\")\n",
    "    im1 = im.crop(border)\n",
    "    im1.save(\"cropped.jpg\")\n",
    "    try:\n",
    "        df = DeepFace.find(img_path = \"cropped.jpg\", db_path = \"/media/lkunam/DVU-Challenge/HLVU/movie_knowledge_graph/honey/image/Person/\", detector_backend = backends[1])\n",
    "        result = df[\"identity\"][0]\n",
    "        print(result[-17:].partition('/')[0])\n",
    "    except ValueError:\n",
    "        print(\"No face was able to be matched\")"
   ]
  },
  {
   "cell_type": "code",
   "execution_count": 13,
   "id": "north-nevada",
   "metadata": {},
   "outputs": [],
   "source": [
    "from retinaface import RetinaFace\n",
    "from PIL import Image\n",
    "\n",
    "resp = RetinaFace.detect_faces(\"test4.jpg\")"
   ]
  },
  {
   "cell_type": "code",
   "execution_count": 8,
   "id": "opponent-antibody",
   "metadata": {},
   "outputs": [
    {
     "data": {
      "text/plain": [
       "19.157244060668017"
      ]
     },
     "execution_count": 8,
     "metadata": {},
     "output_type": "execute_result"
    }
   ],
   "source": [
    "import numpy as np\n",
    "\n",
    "a = [416, 114, 511, 265]\n",
    "b = [411, 100, 500, 260]\n",
    "dist = np.linalg.norm(np.array(a) - np.array(b))\n",
    "dist"
   ]
  },
  {
   "cell_type": "code",
   "execution_count": 148,
   "id": "played-subject",
   "metadata": {},
   "outputs": [],
   "source": [
    "im = Image.open(\"test3.jpg\")\n",
    "im1 = im.crop(border)"
   ]
  },
  {
   "cell_type": "code",
   "execution_count": 149,
   "id": "defined-reply",
   "metadata": {},
   "outputs": [],
   "source": [
    "im1.show()"
   ]
  },
  {
   "cell_type": "code",
   "execution_count": 27,
   "id": "vertical-retreat",
   "metadata": {},
   "outputs": [],
   "source": [
    "im1.save(\"cropped.jpg\")"
   ]
  },
  {
   "cell_type": "code",
   "execution_count": 43,
   "id": "beneficial-black",
   "metadata": {},
   "outputs": [
    {
     "name": "stdout",
     "output_type": "stream",
     "text": [
      "WARNING: Representations for images in  /media/lkunam/DVU-Challenge/HLVU/movie_knowledge_graph/honey/image/Person/  folder were previously stored in  representations_vgg_face.pkl . If you added new instances after this file creation, then please delete this file and call find function again. It will create it again.\n",
      "There are  54  representations found in  representations_vgg_face.pkl\n",
      "find function lasts  0.22999358177185059  seconds\n",
      "Marty\n"
     ]
    }
   ],
   "source": [
    "from deepface import DeepFace\n",
    "import os\n",
    "\n",
    "backends = ['opencv', 'ssd', 'dlib', 'mtcnn', 'retinaface']\n",
    "\n",
    "\n",
    "try:\n",
    "    df = DeepFace.find(img_path = \"test.jpg\", db_path = \"/media/lkunam/DVU-Challenge/HLVU/movie_knowledge_graph/honey/image/Person/\", detector_backend = backends[4])\n",
    "    result = df[\"identity\"][0]\n",
    "    print(result[-17:].partition('/')[0])\n",
    "except ValueError:\n",
    "    print(\"No face was able to be matched\")"
   ]
  },
  {
   "cell_type": "code",
   "execution_count": 42,
   "id": "rapid-percentage",
   "metadata": {},
   "outputs": [
    {
     "name": "stdout",
     "output_type": "stream",
     "text": [
      "Marty\n"
     ]
    }
   ],
   "source": [
    "result = df[\"identity\"][0]\n",
    "print(result[-17:].partition('/')[0])"
   ]
  },
  {
   "cell_type": "code",
   "execution_count": 39,
   "id": "bulgarian-globe",
   "metadata": {},
   "outputs": [
    {
     "name": "stderr",
     "output_type": "stream",
     "text": [
      "Action: emotion: 100%|██████████| 4/4 [00:00<00:00,  7.91it/s]\n"
     ]
    }
   ],
   "source": [
    "obj = DeepFace.analyze(img_path = \"../../images/apes.png\", actions = ['age', 'gender', 'race', 'emotion'],enforce_detection = False)\n"
   ]
  },
  {
   "cell_type": "code",
   "execution_count": 40,
   "id": "vocational-elimination",
   "metadata": {},
   "outputs": [
    {
     "name": "stdout",
     "output_type": "stream",
     "text": [
      "{'age': 33, 'region': {'x': 0, 'y': 0, 'w': 624, 'h': 654}, 'gender': 'Man', 'race': {'asian': 2.6672628905544116e-05, 'indian': 0.0005696684183931211, 'black': 99.99924898147583, 'white': 2.11046757847555e-07, 'middle eastern': 3.3012492739459276e-07, 'latino hispanic': 0.0001600061636963801}, 'dominant_race': 'black', 'emotion': {'angry': 0.0011470142453617882, 'disgust': 2.4058101644186536e-05, 'fear': 0.01726231857901439, 'happy': 1.3578493148088455, 'sad': 97.93298840522766, 'surprise': 3.2087912188449863e-09, 'neutral': 0.6907255854457617}, 'dominant_emotion': 'sad'}\n"
     ]
    }
   ],
   "source": [
    "print(obj)"
   ]
  }
 ],
 "metadata": {
  "kernelspec": {
   "display_name": "deepface",
   "language": "python",
   "name": "myenv"
  },
  "language_info": {
   "codemirror_mode": {
    "name": "ipython",
    "version": 3
   },
   "file_extension": ".py",
   "mimetype": "text/x-python",
   "name": "python",
   "nbconvert_exporter": "python",
   "pygments_lexer": "ipython3",
   "version": "3.9.7"
  }
 },
 "nbformat": 4,
 "nbformat_minor": 5
}
