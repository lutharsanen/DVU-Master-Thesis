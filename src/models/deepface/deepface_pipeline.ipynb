{
 "cells": [
  {
   "cell_type": "code",
   "execution_count": 12,
   "id": "bearing-encyclopedia",
   "metadata": {},
   "outputs": [],
   "source": [
    "from collections import Counter\n",
    "import shutil\n",
    "import os\n",
    "from retinaface import RetinaFace\n",
    "from deepface import DeepFace\n",
    "from PIL import Image\n",
    "from tqdm import tqdm\n",
    "import numpy as np\n",
    "\n",
    "def enlargen_image(border):\n",
    "    border[0]-=20\n",
    "    border[1]-=20\n",
    "    border[2]+=20\n",
    "    border[3]+=20\n",
    "    return border\n",
    "\n",
    "def euclidean_distance_check(border, border_list):\n",
    "    result_border = []\n",
    "    borders = [i[0] for i in border_list]\n",
    "    for compare_border in borders:\n",
    "        dist = np.linalg.norm(np.array(border) - np.array(compare_border))\n",
    "        if dist < 25:\n",
    "            border_list_index = borders.index(compare_border)\n",
    "            result_border.append(border_list[border_list_index])\n",
    "    if len(result_border) == 0:\n",
    "        return 0\n",
    "    print(result_border)\n",
    "    resulting_name = [i[2] for i in result_border]\n",
    "    c = Counter(resulting_name)\n",
    "    value, count = c.most_common()[0]\n",
    "    return value"
   ]
  },
  {
   "cell_type": "code",
   "execution_count": 15,
   "id": "daily-north",
   "metadata": {
    "scrolled": true
   },
   "outputs": [
    {
     "name": "stderr",
     "output_type": "stream",
     "text": [
      "\r",
      "  0%|                                                    | 0/23 [00:00<?, ?it/s]"
     ]
    },
    {
     "name": "stdout",
     "output_type": "stream",
     "text": [
      "WARNING: Representations for images in  /media/lkunam/DVU-Challenge/HLVU/movie_knowledge_graph/honey/image/Person/  folder were previously stored in  representations_vgg_face.pkl . If you added new instances after this file creation, then please delete this file and call find function again. It will create it again.\n",
      "There are  54  representations found in  representations_vgg_face.pkl\n",
      "find function lasts  1.3493404388427734  seconds\n",
      "WARNING: Representations for images in  /media/lkunam/DVU-Challenge/HLVU/movie_knowledge_graph/honey/image/Person/  folder were previously stored in  representations_vgg_face.pkl . If you added new instances after this file creation, then please delete this file and call find function again. It will create it again.\n",
      "There are  54  representations found in  representations_vgg_face.pkl\n"
     ]
    },
    {
     "name": "stderr",
     "output_type": "stream",
     "text": [
      "\r",
      "  4%|█▉                                          | 1/23 [01:38<36:12, 98.76s/it]"
     ]
    },
    {
     "name": "stdout",
     "output_type": "stream",
     "text": [
      "WARNING: Representations for images in  /media/lkunam/DVU-Challenge/HLVU/movie_knowledge_graph/honey/image/Person/  folder were previously stored in  representations_vgg_face.pkl . If you added new instances after this file creation, then please delete this file and call find function again. It will create it again.\n",
      "There are  54  representations found in  representations_vgg_face.pkl\n",
      "WARNING: Representations for images in  /media/lkunam/DVU-Challenge/HLVU/movie_knowledge_graph/honey/image/Person/  folder were previously stored in  representations_vgg_face.pkl . If you added new instances after this file creation, then please delete this file and call find function again. It will create it again.\n",
      "There are  54  representations found in  representations_vgg_face.pkl\n",
      "WARNING: Representations for images in  /media/lkunam/DVU-Challenge/HLVU/movie_knowledge_graph/honey/image/Person/  folder were previously stored in  representations_vgg_face.pkl . If you added new instances after this file creation, then please delete this file and call find function again. It will create it again.\n",
      "There are  54  representations found in  representations_vgg_face.pkl\n",
      "WARNING: Representations for images in  /media/lkunam/DVU-Challenge/HLVU/movie_knowledge_graph/honey/image/Person/  folder were previously stored in  representations_vgg_face.pkl . If you added new instances after this file creation, then please delete this file and call find function again. It will create it again.\n",
      "There are  54  representations found in  representations_vgg_face.pkl\n",
      "WARNING: Representations for images in  /media/lkunam/DVU-Challenge/HLVU/movie_knowledge_graph/honey/image/Person/  folder were previously stored in  representations_vgg_face.pkl . If you added new instances after this file creation, then please delete this file and call find function again. It will create it again.\n",
      "There are  54  representations found in  representations_vgg_face.pkl\n",
      "WARNING: Representations for images in  /media/lkunam/DVU-Challenge/HLVU/movie_knowledge_graph/honey/image/Person/  folder were previously stored in  representations_vgg_face.pkl . If you added new instances after this file creation, then please delete this file and call find function again. It will create it again.\n",
      "There are  54  representations found in  representations_vgg_face.pkl\n",
      "WARNING: Representations for images in  /media/lkunam/DVU-Challenge/HLVU/movie_knowledge_graph/honey/image/Person/  folder were previously stored in  representations_vgg_face.pkl . If you added new instances after this file creation, then please delete this file and call find function again. It will create it again.\n",
      "There are  54  representations found in  representations_vgg_face.pkl\n",
      "WARNING: Representations for images in  /media/lkunam/DVU-Challenge/HLVU/movie_knowledge_graph/honey/image/Person/  folder were previously stored in  representations_vgg_face.pkl . If you added new instances after this file creation, then please delete this file and call find function again. It will create it again.\n",
      "There are  54  representations found in  representations_vgg_face.pkl\n",
      "find function lasts  1.5179426670074463  seconds\n",
      "WARNING: Representations for images in  /media/lkunam/DVU-Challenge/HLVU/movie_knowledge_graph/honey/image/Person/  folder were previously stored in  representations_vgg_face.pkl . If you added new instances after this file creation, then please delete this file and call find function again. It will create it again.\n",
      "There are  54  representations found in  representations_vgg_face.pkl\n",
      "find function lasts  1.3668744564056396  seconds\n",
      "WARNING: Representations for images in  /media/lkunam/DVU-Challenge/HLVU/movie_knowledge_graph/honey/image/Person/  folder were previously stored in  representations_vgg_face.pkl . If you added new instances after this file creation, then please delete this file and call find function again. It will create it again.\n",
      "There are  54  representations found in  representations_vgg_face.pkl\n",
      "WARNING: Representations for images in  /media/lkunam/DVU-Challenge/HLVU/movie_knowledge_graph/honey/image/Person/  folder were previously stored in  representations_vgg_face.pkl . If you added new instances after this file creation, then please delete this file and call find function again. It will create it again.\n",
      "There are  54  representations found in  representations_vgg_face.pkl\n",
      "WARNING: Representations for images in  /media/lkunam/DVU-Challenge/HLVU/movie_knowledge_graph/honey/image/Person/  folder were previously stored in  representations_vgg_face.pkl . If you added new instances after this file creation, then please delete this file and call find function again. It will create it again.\n",
      "There are  54  representations found in  representations_vgg_face.pkl\n",
      "WARNING: Representations for images in  /media/lkunam/DVU-Challenge/HLVU/movie_knowledge_graph/honey/image/Person/  folder were previously stored in  representations_vgg_face.pkl . If you added new instances after this file creation, then please delete this file and call find function again. It will create it again.\n",
      "There are  54  representations found in  representations_vgg_face.pkl\n",
      "WARNING: Representations for images in  /media/lkunam/DVU-Challenge/HLVU/movie_knowledge_graph/honey/image/Person/  folder were previously stored in  representations_vgg_face.pkl . If you added new instances after this file creation, then please delete this file and call find function again. It will create it again.\n",
      "There are  54  representations found in  representations_vgg_face.pkl\n",
      "WARNING: Representations for images in  /media/lkunam/DVU-Challenge/HLVU/movie_knowledge_graph/honey/image/Person/  folder were previously stored in  representations_vgg_face.pkl . If you added new instances after this file creation, then please delete this file and call find function again. It will create it again.\n",
      "There are  54  representations found in  representations_vgg_face.pkl\n",
      "WARNING: Representations for images in  /media/lkunam/DVU-Challenge/HLVU/movie_knowledge_graph/honey/image/Person/  folder were previously stored in  representations_vgg_face.pkl . If you added new instances after this file creation, then please delete this file and call find function again. It will create it again.\n",
      "There are  54  representations found in  representations_vgg_face.pkl\n",
      "WARNING: Representations for images in  /media/lkunam/DVU-Challenge/HLVU/movie_knowledge_graph/honey/image/Person/  folder were previously stored in  representations_vgg_face.pkl . If you added new instances after this file creation, then please delete this file and call find function again. It will create it again.\n",
      "There are  54  representations found in  representations_vgg_face.pkl\n",
      "find function lasts  2.0109755992889404  seconds\n",
      "WARNING: Representations for images in  /media/lkunam/DVU-Challenge/HLVU/movie_knowledge_graph/honey/image/Person/  folder were previously stored in  representations_vgg_face.pkl . If you added new instances after this file creation, then please delete this file and call find function again. It will create it again.\n",
      "There are  54  representations found in  representations_vgg_face.pkl\n",
      "WARNING: Representations for images in  /media/lkunam/DVU-Challenge/HLVU/movie_knowledge_graph/honey/image/Person/  folder were previously stored in  representations_vgg_face.pkl . If you added new instances after this file creation, then please delete this file and call find function again. It will create it again.\n",
      "There are  54  representations found in  representations_vgg_face.pkl\n",
      "WARNING: Representations for images in  /media/lkunam/DVU-Challenge/HLVU/movie_knowledge_graph/honey/image/Person/  folder were previously stored in  representations_vgg_face.pkl . If you added new instances after this file creation, then please delete this file and call find function again. It will create it again.\n",
      "There are  54  representations found in  representations_vgg_face.pkl\n",
      "WARNING: Representations for images in  /media/lkunam/DVU-Challenge/HLVU/movie_knowledge_graph/honey/image/Person/  folder were previously stored in  representations_vgg_face.pkl . If you added new instances after this file creation, then please delete this file and call find function again. It will create it again.\n",
      "There are  54  representations found in  representations_vgg_face.pkl\n"
     ]
    },
    {
     "name": "stdout",
     "output_type": "stream",
     "text": [
      "WARNING: Representations for images in  /media/lkunam/DVU-Challenge/HLVU/movie_knowledge_graph/honey/image/Person/  folder were previously stored in  representations_vgg_face.pkl . If you added new instances after this file creation, then please delete this file and call find function again. It will create it again.\n",
      "There are  54  representations found in  representations_vgg_face.pkl\n",
      "WARNING: Representations for images in  /media/lkunam/DVU-Challenge/HLVU/movie_knowledge_graph/honey/image/Person/  folder were previously stored in  representations_vgg_face.pkl . If you added new instances after this file creation, then please delete this file and call find function again. It will create it again.\n",
      "There are  54  representations found in  representations_vgg_face.pkl\n",
      "WARNING: Representations for images in  /media/lkunam/DVU-Challenge/HLVU/movie_knowledge_graph/honey/image/Person/  folder were previously stored in  representations_vgg_face.pkl . If you added new instances after this file creation, then please delete this file and call find function again. It will create it again.\n",
      "There are  54  representations found in  representations_vgg_face.pkl\n",
      "WARNING: Representations for images in  /media/lkunam/DVU-Challenge/HLVU/movie_knowledge_graph/honey/image/Person/  folder were previously stored in  representations_vgg_face.pkl . If you added new instances after this file creation, then please delete this file and call find function again. It will create it again.\n",
      "There are  54  representations found in  representations_vgg_face.pkl\n",
      "WARNING: Representations for images in  /media/lkunam/DVU-Challenge/HLVU/movie_knowledge_graph/honey/image/Person/  folder were previously stored in  representations_vgg_face.pkl . If you added new instances after this file creation, then please delete this file and call find function again. It will create it again.\n",
      "There are  54  representations found in  representations_vgg_face.pkl\n",
      "WARNING: Representations for images in  /media/lkunam/DVU-Challenge/HLVU/movie_knowledge_graph/honey/image/Person/  folder were previously stored in  representations_vgg_face.pkl . If you added new instances after this file creation, then please delete this file and call find function again. It will create it again.\n",
      "There are  54  representations found in  representations_vgg_face.pkl\n",
      "WARNING: Representations for images in  /media/lkunam/DVU-Challenge/HLVU/movie_knowledge_graph/honey/image/Person/  folder were previously stored in  representations_vgg_face.pkl . If you added new instances after this file creation, then please delete this file and call find function again. It will create it again.\n",
      "There are  54  representations found in  representations_vgg_face.pkl\n",
      "find function lasts  1.3745431900024414  seconds\n"
     ]
    },
    {
     "name": "stderr",
     "output_type": "stream",
     "text": [
      "\r",
      "  9%|███▌                                     | 2/23 [05:31<1:02:14, 177.83s/it]"
     ]
    },
    {
     "name": "stdout",
     "output_type": "stream",
     "text": [
      "WARNING: Representations for images in  /media/lkunam/DVU-Challenge/HLVU/movie_knowledge_graph/honey/image/Person/  folder were previously stored in  representations_vgg_face.pkl . If you added new instances after this file creation, then please delete this file and call find function again. It will create it again.\n",
      "There are  54  representations found in  representations_vgg_face.pkl\n",
      "find function lasts  1.429802417755127  seconds\n",
      "WARNING: Representations for images in  /media/lkunam/DVU-Challenge/HLVU/movie_knowledge_graph/honey/image/Person/  folder were previously stored in  representations_vgg_face.pkl . If you added new instances after this file creation, then please delete this file and call find function again. It will create it again.\n",
      "There are  54  representations found in  representations_vgg_face.pkl\n",
      "WARNING: Representations for images in  /media/lkunam/DVU-Challenge/HLVU/movie_knowledge_graph/honey/image/Person/  folder were previously stored in  representations_vgg_face.pkl . If you added new instances after this file creation, then please delete this file and call find function again. It will create it again.\n",
      "There are  54  representations found in  representations_vgg_face.pkl\n",
      "WARNING: Representations for images in  /media/lkunam/DVU-Challenge/HLVU/movie_knowledge_graph/honey/image/Person/  folder were previously stored in  representations_vgg_face.pkl . If you added new instances after this file creation, then please delete this file and call find function again. It will create it again.\n",
      "There are  54  representations found in  representations_vgg_face.pkl\n",
      "WARNING: Representations for images in  /media/lkunam/DVU-Challenge/HLVU/movie_knowledge_graph/honey/image/Person/  folder were previously stored in  representations_vgg_face.pkl . If you added new instances after this file creation, then please delete this file and call find function again. It will create it again.\n",
      "There are  54  representations found in  representations_vgg_face.pkl\n",
      "WARNING: Representations for images in  /media/lkunam/DVU-Challenge/HLVU/movie_knowledge_graph/honey/image/Person/  folder were previously stored in  representations_vgg_face.pkl . If you added new instances after this file creation, then please delete this file and call find function again. It will create it again.\n",
      "There are  54  representations found in  representations_vgg_face.pkl\n",
      "find function lasts  1.7418546676635742  seconds\n",
      "WARNING: Representations for images in  /media/lkunam/DVU-Challenge/HLVU/movie_knowledge_graph/honey/image/Person/  folder were previously stored in  representations_vgg_face.pkl . If you added new instances after this file creation, then please delete this file and call find function again. It will create it again.\n",
      "There are  54  representations found in  representations_vgg_face.pkl\n",
      "find function lasts  1.460578441619873  seconds\n",
      "WARNING: Representations for images in  /media/lkunam/DVU-Challenge/HLVU/movie_knowledge_graph/honey/image/Person/  folder were previously stored in  representations_vgg_face.pkl . If you added new instances after this file creation, then please delete this file and call find function again. It will create it again.\n",
      "There are  54  representations found in  representations_vgg_face.pkl\n",
      "WARNING: Representations for images in  /media/lkunam/DVU-Challenge/HLVU/movie_knowledge_graph/honey/image/Person/  folder were previously stored in  representations_vgg_face.pkl . If you added new instances after this file creation, then please delete this file and call find function again. It will create it again.\n",
      "There are  54  representations found in  representations_vgg_face.pkl\n",
      "find function lasts  1.5702242851257324  seconds\n",
      "[[[369, 69, 482, 184], 'shot_0000_img_1.jpg', 'Ruth']]\n",
      "WARNING: Representations for images in  /media/lkunam/DVU-Challenge/HLVU/movie_knowledge_graph/honey/image/Person/  folder were previously stored in  representations_vgg_face.pkl . If you added new instances after this file creation, then please delete this file and call find function again. It will create it again.\n",
      "There are  54  representations found in  representations_vgg_face.pkl\n",
      "find function lasts  1.501272201538086  seconds\n",
      "WARNING: Representations for images in  /media/lkunam/DVU-Challenge/HLVU/movie_knowledge_graph/honey/image/Person/  folder were previously stored in  representations_vgg_face.pkl . If you added new instances after this file creation, then please delete this file and call find function again. It will create it again.\n",
      "There are  54  representations found in  representations_vgg_face.pkl\n",
      "find function lasts  1.4311304092407227  seconds\n",
      "[[[369, 69, 482, 184], 'shot_0000_img_1.jpg', 'Ruth'], [[368, 65, 482, 182], 'shot_0000_img_0.jpg', 'Ruth']]\n",
      "WARNING: Representations for images in  /media/lkunam/DVU-Challenge/HLVU/movie_knowledge_graph/honey/image/Person/  folder were previously stored in  representations_vgg_face.pkl . If you added new instances after this file creation, then please delete this file and call find function again. It will create it again.\n",
      "There are  54  representations found in  representations_vgg_face.pkl\n",
      "find function lasts  1.5591259002685547  seconds\n",
      "WARNING: Representations for images in  /media/lkunam/DVU-Challenge/HLVU/movie_knowledge_graph/honey/image/Person/  folder were previously stored in  representations_vgg_face.pkl . If you added new instances after this file creation, then please delete this file and call find function again. It will create it again.\n",
      "There are  54  representations found in  representations_vgg_face.pkl\n",
      "WARNING: Representations for images in  /media/lkunam/DVU-Challenge/HLVU/movie_knowledge_graph/honey/image/Person/  folder were previously stored in  representations_vgg_face.pkl . If you added new instances after this file creation, then please delete this file and call find function again. It will create it again.\n",
      "There are  54  representations found in  representations_vgg_face.pkl\n",
      "find function lasts  1.3422000408172607  seconds\n",
      "WARNING: Representations for images in  /media/lkunam/DVU-Challenge/HLVU/movie_knowledge_graph/honey/image/Person/  folder were previously stored in  representations_vgg_face.pkl . If you added new instances after this file creation, then please delete this file and call find function again. It will create it again.\n",
      "There are  54  representations found in  representations_vgg_face.pkl\n",
      "find function lasts  1.418039083480835  seconds\n",
      "WARNING: Representations for images in  /media/lkunam/DVU-Challenge/HLVU/movie_knowledge_graph/honey/image/Person/  folder were previously stored in  representations_vgg_face.pkl . If you added new instances after this file creation, then please delete this file and call find function again. It will create it again.\n",
      "There are  54  representations found in  representations_vgg_face.pkl\n",
      "WARNING: Representations for images in  /media/lkunam/DVU-Challenge/HLVU/movie_knowledge_graph/honey/image/Person/  folder were previously stored in  representations_vgg_face.pkl . If you added new instances after this file creation, then please delete this file and call find function again. It will create it again.\n",
      "There are  54  representations found in  representations_vgg_face.pkl\n",
      "WARNING: Representations for images in  /media/lkunam/DVU-Challenge/HLVU/movie_knowledge_graph/honey/image/Person/  folder were previously stored in  representations_vgg_face.pkl . If you added new instances after this file creation, then please delete this file and call find function again. It will create it again.\n",
      "There are  54  representations found in  representations_vgg_face.pkl\n"
     ]
    },
    {
     "name": "stderr",
     "output_type": "stream",
     "text": [
      "\r",
      " 13%|█████▌                                     | 3/23 [06:48<43:47, 131.39s/it]"
     ]
    },
    {
     "name": "stdout",
     "output_type": "stream",
     "text": [
      "WARNING: Representations for images in  /media/lkunam/DVU-Challenge/HLVU/movie_knowledge_graph/honey/image/Person/  folder were previously stored in  representations_vgg_face.pkl . If you added new instances after this file creation, then please delete this file and call find function again. It will create it again.\n",
      "There are  54  representations found in  representations_vgg_face.pkl\n",
      "find function lasts  1.5523052215576172  seconds\n",
      "WARNING: Representations for images in  /media/lkunam/DVU-Challenge/HLVU/movie_knowledge_graph/honey/image/Person/  folder were previously stored in  representations_vgg_face.pkl . If you added new instances after this file creation, then please delete this file and call find function again. It will create it again.\n",
      "There are  54  representations found in  representations_vgg_face.pkl\n",
      "find function lasts  1.517362117767334  seconds\n",
      "WARNING: Representations for images in  /media/lkunam/DVU-Challenge/HLVU/movie_knowledge_graph/honey/image/Person/  folder were previously stored in  representations_vgg_face.pkl . If you added new instances after this file creation, then please delete this file and call find function again. It will create it again.\n",
      "There are  54  representations found in  representations_vgg_face.pkl\n",
      "find function lasts  1.463848352432251  seconds\n",
      "WARNING: Representations for images in  /media/lkunam/DVU-Challenge/HLVU/movie_knowledge_graph/honey/image/Person/  folder were previously stored in  representations_vgg_face.pkl . If you added new instances after this file creation, then please delete this file and call find function again. It will create it again.\n",
      "There are  54  representations found in  representations_vgg_face.pkl\n",
      "find function lasts  1.7672247886657715  seconds\n",
      "WARNING: Representations for images in  /media/lkunam/DVU-Challenge/HLVU/movie_knowledge_graph/honey/image/Person/  folder were previously stored in  representations_vgg_face.pkl . If you added new instances after this file creation, then please delete this file and call find function again. It will create it again.\n",
      "There are  54  representations found in  representations_vgg_face.pkl\n",
      "find function lasts  1.4246811866760254  seconds\n",
      "WARNING: Representations for images in  /media/lkunam/DVU-Challenge/HLVU/movie_knowledge_graph/honey/image/Person/  folder were previously stored in  representations_vgg_face.pkl . If you added new instances after this file creation, then please delete this file and call find function again. It will create it again.\n",
      "There are  54  representations found in  representations_vgg_face.pkl\n",
      "find function lasts  1.5162959098815918  seconds\n",
      "[[[382, 9, 507, 141], 'shot_0001_img_2.jpg', 'Charles']]\n",
      "WARNING: Representations for images in  /media/lkunam/DVU-Challenge/HLVU/movie_knowledge_graph/honey/image/Person/  folder were previously stored in  representations_vgg_face.pkl . If you added new instances after this file creation, then please delete this file and call find function again. It will create it again.\n",
      "There are  54  representations found in  representations_vgg_face.pkl\n",
      "WARNING: Representations for images in  /media/lkunam/DVU-Challenge/HLVU/movie_knowledge_graph/honey/image/Person/  folder were previously stored in  representations_vgg_face.pkl . If you added new instances after this file creation, then please delete this file and call find function again. It will create it again.\n",
      "There are  54  representations found in  representations_vgg_face.pkl\n",
      "WARNING: Representations for images in  /media/lkunam/DVU-Challenge/HLVU/movie_knowledge_graph/honey/image/Person/  folder were previously stored in  representations_vgg_face.pkl . If you added new instances after this file creation, then please delete this file and call find function again. It will create it again.\n",
      "There are  54  representations found in  representations_vgg_face.pkl\n",
      "find function lasts  1.5146636962890625  seconds\n",
      "WARNING: Representations for images in  /media/lkunam/DVU-Challenge/HLVU/movie_knowledge_graph/honey/image/Person/  folder were previously stored in  representations_vgg_face.pkl . If you added new instances after this file creation, then please delete this file and call find function again. It will create it again.\n",
      "There are  54  representations found in  representations_vgg_face.pkl\n",
      "WARNING: Representations for images in  /media/lkunam/DVU-Challenge/HLVU/movie_knowledge_graph/honey/image/Person/  folder were previously stored in  representations_vgg_face.pkl . If you added new instances after this file creation, then please delete this file and call find function again. It will create it again.\n",
      "There are  54  representations found in  representations_vgg_face.pkl\n",
      "find function lasts  1.5307838916778564  seconds\n",
      "WARNING: Representations for images in  /media/lkunam/DVU-Challenge/HLVU/movie_knowledge_graph/honey/image/Person/  folder were previously stored in  representations_vgg_face.pkl . If you added new instances after this file creation, then please delete this file and call find function again. It will create it again.\n",
      "There are  54  representations found in  representations_vgg_face.pkl\n",
      "WARNING: Representations for images in  /media/lkunam/DVU-Challenge/HLVU/movie_knowledge_graph/honey/image/Person/  folder were previously stored in  representations_vgg_face.pkl . If you added new instances after this file creation, then please delete this file and call find function again. It will create it again.\n",
      "There are  54  representations found in  representations_vgg_face.pkl\n",
      "find function lasts  1.4609291553497314  seconds\n",
      "WARNING: Representations for images in  /media/lkunam/DVU-Challenge/HLVU/movie_knowledge_graph/honey/image/Person/  folder were previously stored in  representations_vgg_face.pkl . If you added new instances after this file creation, then please delete this file and call find function again. It will create it again.\n",
      "There are  54  representations found in  representations_vgg_face.pkl\n",
      "WARNING: Representations for images in  /media/lkunam/DVU-Challenge/HLVU/movie_knowledge_graph/honey/image/Person/  folder were previously stored in  representations_vgg_face.pkl . If you added new instances after this file creation, then please delete this file and call find function again. It will create it again.\n",
      "There are  54  representations found in  representations_vgg_face.pkl\n",
      "find function lasts  1.6005866527557373  seconds\n",
      "WARNING: Representations for images in  /media/lkunam/DVU-Challenge/HLVU/movie_knowledge_graph/honey/image/Person/  folder were previously stored in  representations_vgg_face.pkl . If you added new instances after this file creation, then please delete this file and call find function again. It will create it again.\n",
      "There are  54  representations found in  representations_vgg_face.pkl\n",
      "WARNING: Representations for images in  /media/lkunam/DVU-Challenge/HLVU/movie_knowledge_graph/honey/image/Person/  folder were previously stored in  representations_vgg_face.pkl . If you added new instances after this file creation, then please delete this file and call find function again. It will create it again.\n",
      "There are  54  representations found in  representations_vgg_face.pkl\n",
      "find function lasts  1.8172168731689453  seconds\n",
      "WARNING: Representations for images in  /media/lkunam/DVU-Challenge/HLVU/movie_knowledge_graph/honey/image/Person/  folder were previously stored in  representations_vgg_face.pkl . If you added new instances after this file creation, then please delete this file and call find function again. It will create it again.\n",
      "There are  54  representations found in  representations_vgg_face.pkl\n",
      "find function lasts  1.5221621990203857  seconds\n",
      "WARNING: Representations for images in  /media/lkunam/DVU-Challenge/HLVU/movie_knowledge_graph/honey/image/Person/  folder were previously stored in  representations_vgg_face.pkl . If you added new instances after this file creation, then please delete this file and call find function again. It will create it again.\n",
      "There are  54  representations found in  representations_vgg_face.pkl\n",
      "WARNING: Representations for images in  /media/lkunam/DVU-Challenge/HLVU/movie_knowledge_graph/honey/image/Person/  folder were previously stored in  representations_vgg_face.pkl . If you added new instances after this file creation, then please delete this file and call find function again. It will create it again.\n",
      "There are  54  representations found in  representations_vgg_face.pkl\n"
     ]
    },
    {
     "name": "stderr",
     "output_type": "stream",
     "text": [
      "\r",
      " 17%|███████▍                                   | 4/23 [07:58<33:55, 107.14s/it]"
     ]
    },
    {
     "name": "stdout",
     "output_type": "stream",
     "text": [
      "WARNING: Representations for images in  /media/lkunam/DVU-Challenge/HLVU/movie_knowledge_graph/honey/image/Person/  folder were previously stored in  representations_vgg_face.pkl . If you added new instances after this file creation, then please delete this file and call find function again. It will create it again.\n",
      "There are  54  representations found in  representations_vgg_face.pkl\n"
     ]
    },
    {
     "name": "stderr",
     "output_type": "stream",
     "text": [
      "\r",
      " 22%|█████████▌                                  | 5/23 [08:13<22:14, 74.14s/it]"
     ]
    },
    {
     "name": "stdout",
     "output_type": "stream",
     "text": [
      "WARNING: Representations for images in  /media/lkunam/DVU-Challenge/HLVU/movie_knowledge_graph/honey/image/Person/  folder were previously stored in  representations_vgg_face.pkl . If you added new instances after this file creation, then please delete this file and call find function again. It will create it again.\n",
      "There are  54  representations found in  representations_vgg_face.pkl\n",
      "WARNING: Representations for images in  /media/lkunam/DVU-Challenge/HLVU/movie_knowledge_graph/honey/image/Person/  folder were previously stored in  representations_vgg_face.pkl . If you added new instances after this file creation, then please delete this file and call find function again. It will create it again.\n",
      "There are  54  representations found in  representations_vgg_face.pkl\n"
     ]
    },
    {
     "name": "stderr",
     "output_type": "stream",
     "text": [
      "\r",
      " 26%|███████████▍                                | 6/23 [08:52<17:38, 62.25s/it]"
     ]
    },
    {
     "name": "stdout",
     "output_type": "stream",
     "text": [
      "WARNING: Representations for images in  /media/lkunam/DVU-Challenge/HLVU/movie_knowledge_graph/honey/image/Person/  folder were previously stored in  representations_vgg_face.pkl . If you added new instances after this file creation, then please delete this file and call find function again. It will create it again.\n",
      "There are  54  representations found in  representations_vgg_face.pkl\n",
      "find function lasts  1.318706750869751  seconds\n",
      "WARNING: Representations for images in  /media/lkunam/DVU-Challenge/HLVU/movie_knowledge_graph/honey/image/Person/  folder were previously stored in  representations_vgg_face.pkl . If you added new instances after this file creation, then please delete this file and call find function again. It will create it again.\n",
      "There are  54  representations found in  representations_vgg_face.pkl\n",
      "find function lasts  1.3964784145355225  seconds\n",
      "WARNING: Representations for images in  /media/lkunam/DVU-Challenge/HLVU/movie_knowledge_graph/honey/image/Person/  folder were previously stored in  representations_vgg_face.pkl . If you added new instances after this file creation, then please delete this file and call find function again. It will create it again.\n",
      "There are  54  representations found in  representations_vgg_face.pkl\n",
      "find function lasts  1.4009160995483398  seconds\n",
      "WARNING: Representations for images in  /media/lkunam/DVU-Challenge/HLVU/movie_knowledge_graph/honey/image/Person/  folder were previously stored in  representations_vgg_face.pkl . If you added new instances after this file creation, then please delete this file and call find function again. It will create it again.\n",
      "There are  54  representations found in  representations_vgg_face.pkl\n",
      "WARNING: Representations for images in  /media/lkunam/DVU-Challenge/HLVU/movie_knowledge_graph/honey/image/Person/  folder were previously stored in  representations_vgg_face.pkl . If you added new instances after this file creation, then please delete this file and call find function again. It will create it again.\n",
      "There are  54  representations found in  representations_vgg_face.pkl\n",
      "find function lasts  1.605964183807373  seconds\n",
      "WARNING: Representations for images in  /media/lkunam/DVU-Challenge/HLVU/movie_knowledge_graph/honey/image/Person/  folder were previously stored in  representations_vgg_face.pkl . If you added new instances after this file creation, then please delete this file and call find function again. It will create it again.\n",
      "There are  54  representations found in  representations_vgg_face.pkl\n",
      "find function lasts  1.516495943069458  seconds\n",
      "WARNING: Representations for images in  /media/lkunam/DVU-Challenge/HLVU/movie_knowledge_graph/honey/image/Person/  folder were previously stored in  representations_vgg_face.pkl . If you added new instances after this file creation, then please delete this file and call find function again. It will create it again.\n",
      "There are  54  representations found in  representations_vgg_face.pkl\n",
      "find function lasts  1.5020346641540527  seconds\n",
      "WARNING: Representations for images in  /media/lkunam/DVU-Challenge/HLVU/movie_knowledge_graph/honey/image/Person/  folder were previously stored in  representations_vgg_face.pkl . If you added new instances after this file creation, then please delete this file and call find function again. It will create it again.\n",
      "There are  54  representations found in  representations_vgg_face.pkl\n",
      "find function lasts  1.3527536392211914  seconds\n",
      "WARNING: Representations for images in  /media/lkunam/DVU-Challenge/HLVU/movie_knowledge_graph/honey/image/Person/  folder were previously stored in  representations_vgg_face.pkl . If you added new instances after this file creation, then please delete this file and call find function again. It will create it again.\n",
      "There are  54  representations found in  representations_vgg_face.pkl\n",
      "find function lasts  1.3458514213562012  seconds\n",
      "WARNING: Representations for images in  /media/lkunam/DVU-Challenge/HLVU/movie_knowledge_graph/honey/image/Person/  folder were previously stored in  representations_vgg_face.pkl . If you added new instances after this file creation, then please delete this file and call find function again. It will create it again.\n",
      "There are  54  representations found in  representations_vgg_face.pkl\n",
      "find function lasts  1.523777961730957  seconds\n",
      "WARNING: Representations for images in  /media/lkunam/DVU-Challenge/HLVU/movie_knowledge_graph/honey/image/Person/  folder were previously stored in  representations_vgg_face.pkl . If you added new instances after this file creation, then please delete this file and call find function again. It will create it again.\n",
      "There are  54  representations found in  representations_vgg_face.pkl\n",
      "find function lasts  1.6136863231658936  seconds\n",
      "WARNING: Representations for images in  /media/lkunam/DVU-Challenge/HLVU/movie_knowledge_graph/honey/image/Person/  folder were previously stored in  representations_vgg_face.pkl . If you added new instances after this file creation, then please delete this file and call find function again. It will create it again.\n",
      "There are  54  representations found in  representations_vgg_face.pkl\n",
      "find function lasts  1.5203189849853516  seconds\n",
      "WARNING: Representations for images in  /media/lkunam/DVU-Challenge/HLVU/movie_knowledge_graph/honey/image/Person/  folder were previously stored in  representations_vgg_face.pkl . If you added new instances after this file creation, then please delete this file and call find function again. It will create it again.\n",
      "There are  54  representations found in  representations_vgg_face.pkl\n",
      "WARNING: Representations for images in  /media/lkunam/DVU-Challenge/HLVU/movie_knowledge_graph/honey/image/Person/  folder were previously stored in  representations_vgg_face.pkl . If you added new instances after this file creation, then please delete this file and call find function again. It will create it again.\n",
      "There are  54  representations found in  representations_vgg_face.pkl\n",
      "find function lasts  2.523717164993286  seconds\n",
      "WARNING: Representations for images in  /media/lkunam/DVU-Challenge/HLVU/movie_knowledge_graph/honey/image/Person/  folder were previously stored in  representations_vgg_face.pkl . If you added new instances after this file creation, then please delete this file and call find function again. It will create it again.\n",
      "There are  54  representations found in  representations_vgg_face.pkl\n",
      "WARNING: Representations for images in  /media/lkunam/DVU-Challenge/HLVU/movie_knowledge_graph/honey/image/Person/  folder were previously stored in  representations_vgg_face.pkl . If you added new instances after this file creation, then please delete this file and call find function again. It will create it again.\n",
      "There are  54  representations found in  representations_vgg_face.pkl\n",
      "find function lasts  2.348475933074951  seconds\n",
      "[[[366, 76, 559, 259], 'shot_0000_img_1.jpg', 'Sharon']]\n",
      "WARNING: Representations for images in  /media/lkunam/DVU-Challenge/HLVU/movie_knowledge_graph/honey/image/Person/  folder were previously stored in  representations_vgg_face.pkl . If you added new instances after this file creation, then please delete this file and call find function again. It will create it again.\n",
      "There are  54  representations found in  representations_vgg_face.pkl\n",
      "WARNING: Representations for images in  /media/lkunam/DVU-Challenge/HLVU/movie_knowledge_graph/honey/image/Person/  folder were previously stored in  representations_vgg_face.pkl . If you added new instances after this file creation, then please delete this file and call find function again. It will create it again.\n",
      "There are  54  representations found in  representations_vgg_face.pkl\n",
      "find function lasts  1.9910717010498047  seconds\n",
      "WARNING: Representations for images in  /media/lkunam/DVU-Challenge/HLVU/movie_knowledge_graph/honey/image/Person/  folder were previously stored in  representations_vgg_face.pkl . If you added new instances after this file creation, then please delete this file and call find function again. It will create it again.\n",
      "There are  54  representations found in  representations_vgg_face.pkl\n",
      "WARNING: Representations for images in  /media/lkunam/DVU-Challenge/HLVU/movie_knowledge_graph/honey/image/Person/  folder were previously stored in  representations_vgg_face.pkl . If you added new instances after this file creation, then please delete this file and call find function again. It will create it again.\n",
      "There are  54  representations found in  representations_vgg_face.pkl\n"
     ]
    },
    {
     "name": "stdout",
     "output_type": "stream",
     "text": [
      "WARNING: Representations for images in  /media/lkunam/DVU-Challenge/HLVU/movie_knowledge_graph/honey/image/Person/  folder were previously stored in  representations_vgg_face.pkl . If you added new instances after this file creation, then please delete this file and call find function again. It will create it again.\n",
      "There are  54  representations found in  representations_vgg_face.pkl\n",
      "WARNING: Representations for images in  /media/lkunam/DVU-Challenge/HLVU/movie_knowledge_graph/honey/image/Person/  folder were previously stored in  representations_vgg_face.pkl . If you added new instances after this file creation, then please delete this file and call find function again. It will create it again.\n",
      "There are  54  representations found in  representations_vgg_face.pkl\n",
      "WARNING: Representations for images in  /media/lkunam/DVU-Challenge/HLVU/movie_knowledge_graph/honey/image/Person/  folder were previously stored in  representations_vgg_face.pkl . If you added new instances after this file creation, then please delete this file and call find function again. It will create it again.\n",
      "There are  54  representations found in  representations_vgg_face.pkl\n",
      "find function lasts  1.545398473739624  seconds\n",
      "WARNING: Representations for images in  /media/lkunam/DVU-Challenge/HLVU/movie_knowledge_graph/honey/image/Person/  folder were previously stored in  representations_vgg_face.pkl . If you added new instances after this file creation, then please delete this file and call find function again. It will create it again.\n",
      "There are  54  representations found in  representations_vgg_face.pkl\n",
      "find function lasts  1.5841665267944336  seconds\n",
      "WARNING: Representations for images in  /media/lkunam/DVU-Challenge/HLVU/movie_knowledge_graph/honey/image/Person/  folder were previously stored in  representations_vgg_face.pkl . If you added new instances after this file creation, then please delete this file and call find function again. It will create it again.\n",
      "There are  54  representations found in  representations_vgg_face.pkl\n",
      "find function lasts  1.3056645393371582  seconds\n",
      "WARNING: Representations for images in  /media/lkunam/DVU-Challenge/HLVU/movie_knowledge_graph/honey/image/Person/  folder were previously stored in  representations_vgg_face.pkl . If you added new instances after this file creation, then please delete this file and call find function again. It will create it again.\n",
      "There are  54  representations found in  representations_vgg_face.pkl\n",
      "WARNING: Representations for images in  /media/lkunam/DVU-Challenge/HLVU/movie_knowledge_graph/honey/image/Person/  folder were previously stored in  representations_vgg_face.pkl . If you added new instances after this file creation, then please delete this file and call find function again. It will create it again.\n",
      "There are  54  representations found in  representations_vgg_face.pkl\n",
      "WARNING: Representations for images in  /media/lkunam/DVU-Challenge/HLVU/movie_knowledge_graph/honey/image/Person/  folder were previously stored in  representations_vgg_face.pkl . If you added new instances after this file creation, then please delete this file and call find function again. It will create it again.\n",
      "There are  54  representations found in  representations_vgg_face.pkl\n",
      "WARNING: Representations for images in  /media/lkunam/DVU-Challenge/HLVU/movie_knowledge_graph/honey/image/Person/  folder were previously stored in  representations_vgg_face.pkl . If you added new instances after this file creation, then please delete this file and call find function again. It will create it again.\n",
      "There are  54  representations found in  representations_vgg_face.pkl\n",
      "WARNING: Representations for images in  /media/lkunam/DVU-Challenge/HLVU/movie_knowledge_graph/honey/image/Person/  folder were previously stored in  representations_vgg_face.pkl . If you added new instances after this file creation, then please delete this file and call find function again. It will create it again.\n",
      "There are  54  representations found in  representations_vgg_face.pkl\n",
      "WARNING: Representations for images in  /media/lkunam/DVU-Challenge/HLVU/movie_knowledge_graph/honey/image/Person/  folder were previously stored in  representations_vgg_face.pkl . If you added new instances after this file creation, then please delete this file and call find function again. It will create it again.\n",
      "There are  54  representations found in  representations_vgg_face.pkl\n",
      "find function lasts  1.5053761005401611  seconds\n",
      "WARNING: Representations for images in  /media/lkunam/DVU-Challenge/HLVU/movie_knowledge_graph/honey/image/Person/  folder were previously stored in  representations_vgg_face.pkl . If you added new instances after this file creation, then please delete this file and call find function again. It will create it again.\n",
      "There are  54  representations found in  representations_vgg_face.pkl\n",
      "find function lasts  1.5015323162078857  seconds\n",
      "WARNING: Representations for images in  /media/lkunam/DVU-Challenge/HLVU/movie_knowledge_graph/honey/image/Person/  folder were previously stored in  representations_vgg_face.pkl . If you added new instances after this file creation, then please delete this file and call find function again. It will create it again.\n",
      "There are  54  representations found in  representations_vgg_face.pkl\n",
      "WARNING: Representations for images in  /media/lkunam/DVU-Challenge/HLVU/movie_knowledge_graph/honey/image/Person/  folder were previously stored in  representations_vgg_face.pkl . If you added new instances after this file creation, then please delete this file and call find function again. It will create it again.\n",
      "There are  54  representations found in  representations_vgg_face.pkl\n",
      "WARNING: Representations for images in  /media/lkunam/DVU-Challenge/HLVU/movie_knowledge_graph/honey/image/Person/  folder were previously stored in  representations_vgg_face.pkl . If you added new instances after this file creation, then please delete this file and call find function again. It will create it again.\n",
      "There are  54  representations found in  representations_vgg_face.pkl\n",
      "WARNING: Representations for images in  /media/lkunam/DVU-Challenge/HLVU/movie_knowledge_graph/honey/image/Person/  folder were previously stored in  representations_vgg_face.pkl . If you added new instances after this file creation, then please delete this file and call find function again. It will create it again.\n",
      "There are  54  representations found in  representations_vgg_face.pkl\n",
      "find function lasts  2.0890052318573  seconds\n",
      "WARNING: Representations for images in  /media/lkunam/DVU-Challenge/HLVU/movie_knowledge_graph/honey/image/Person/  folder were previously stored in  representations_vgg_face.pkl . If you added new instances after this file creation, then please delete this file and call find function again. It will create it again.\n",
      "There are  54  representations found in  representations_vgg_face.pkl\n",
      "find function lasts  1.9590821266174316  seconds\n",
      "WARNING: Representations for images in  /media/lkunam/DVU-Challenge/HLVU/movie_knowledge_graph/honey/image/Person/  folder were previously stored in  representations_vgg_face.pkl . If you added new instances after this file creation, then please delete this file and call find function again. It will create it again.\n",
      "There are  54  representations found in  representations_vgg_face.pkl\n",
      "find function lasts  1.9161505699157715  seconds\n",
      "WARNING: Representations for images in  /media/lkunam/DVU-Challenge/HLVU/movie_knowledge_graph/honey/image/Person/  folder were previously stored in  representations_vgg_face.pkl . If you added new instances after this file creation, then please delete this file and call find function again. It will create it again.\n",
      "There are  54  representations found in  representations_vgg_face.pkl\n",
      "find function lasts  2.0210695266723633  seconds\n",
      "WARNING: Representations for images in  /media/lkunam/DVU-Challenge/HLVU/movie_knowledge_graph/honey/image/Person/  folder were previously stored in  representations_vgg_face.pkl . If you added new instances after this file creation, then please delete this file and call find function again. It will create it again.\n",
      "There are  54  representations found in  representations_vgg_face.pkl\n"
     ]
    },
    {
     "name": "stdout",
     "output_type": "stream",
     "text": [
      "WARNING: Representations for images in  /media/lkunam/DVU-Challenge/HLVU/movie_knowledge_graph/honey/image/Person/  folder were previously stored in  representations_vgg_face.pkl . If you added new instances after this file creation, then please delete this file and call find function again. It will create it again.\n",
      "There are  54  representations found in  representations_vgg_face.pkl\n",
      "find function lasts  2.1943681240081787  seconds\n",
      "WARNING: Representations for images in  /media/lkunam/DVU-Challenge/HLVU/movie_knowledge_graph/honey/image/Person/  folder were previously stored in  representations_vgg_face.pkl . If you added new instances after this file creation, then please delete this file and call find function again. It will create it again.\n",
      "There are  54  representations found in  representations_vgg_face.pkl\n",
      "WARNING: Representations for images in  /media/lkunam/DVU-Challenge/HLVU/movie_knowledge_graph/honey/image/Person/  folder were previously stored in  representations_vgg_face.pkl . If you added new instances after this file creation, then please delete this file and call find function again. It will create it again.\n",
      "There are  54  representations found in  representations_vgg_face.pkl\n",
      "find function lasts  1.6018621921539307  seconds\n",
      "WARNING: Representations for images in  /media/lkunam/DVU-Challenge/HLVU/movie_knowledge_graph/honey/image/Person/  folder were previously stored in  representations_vgg_face.pkl . If you added new instances after this file creation, then please delete this file and call find function again. It will create it again.\n",
      "There are  54  representations found in  representations_vgg_face.pkl\n",
      "find function lasts  1.8135786056518555  seconds\n",
      "WARNING: Representations for images in  /media/lkunam/DVU-Challenge/HLVU/movie_knowledge_graph/honey/image/Person/  folder were previously stored in  representations_vgg_face.pkl . If you added new instances after this file creation, then please delete this file and call find function again. It will create it again.\n",
      "There are  54  representations found in  representations_vgg_face.pkl\n",
      "WARNING: Representations for images in  /media/lkunam/DVU-Challenge/HLVU/movie_knowledge_graph/honey/image/Person/  folder were previously stored in  representations_vgg_face.pkl . If you added new instances after this file creation, then please delete this file and call find function again. It will create it again.\n",
      "There are  54  representations found in  representations_vgg_face.pkl\n"
     ]
    },
    {
     "name": "stderr",
     "output_type": "stream",
     "text": [
      "\r",
      " 30%|█████████████                              | 7/23 [11:57<27:16, 102.28s/it]"
     ]
    },
    {
     "name": "stdout",
     "output_type": "stream",
     "text": [
      "WARNING: Representations for images in  /media/lkunam/DVU-Challenge/HLVU/movie_knowledge_graph/honey/image/Person/  folder were previously stored in  representations_vgg_face.pkl . If you added new instances after this file creation, then please delete this file and call find function again. It will create it again.\n",
      "There are  54  representations found in  representations_vgg_face.pkl\n",
      "WARNING: Representations for images in  /media/lkunam/DVU-Challenge/HLVU/movie_knowledge_graph/honey/image/Person/  folder were previously stored in  representations_vgg_face.pkl . If you added new instances after this file creation, then please delete this file and call find function again. It will create it again.\n",
      "There are  54  representations found in  representations_vgg_face.pkl\n",
      "WARNING: Representations for images in  /media/lkunam/DVU-Challenge/HLVU/movie_knowledge_graph/honey/image/Person/  folder were previously stored in  representations_vgg_face.pkl . If you added new instances after this file creation, then please delete this file and call find function again. It will create it again.\n",
      "There are  54  representations found in  representations_vgg_face.pkl\n",
      "find function lasts  1.506221055984497  seconds\n",
      "WARNING: Representations for images in  /media/lkunam/DVU-Challenge/HLVU/movie_knowledge_graph/honey/image/Person/  folder were previously stored in  representations_vgg_face.pkl . If you added new instances after this file creation, then please delete this file and call find function again. It will create it again.\n",
      "There are  54  representations found in  representations_vgg_face.pkl\n",
      "find function lasts  1.373453140258789  seconds\n",
      "WARNING: Representations for images in  /media/lkunam/DVU-Challenge/HLVU/movie_knowledge_graph/honey/image/Person/  folder were previously stored in  representations_vgg_face.pkl . If you added new instances after this file creation, then please delete this file and call find function again. It will create it again.\n",
      "There are  54  representations found in  representations_vgg_face.pkl\n",
      "find function lasts  1.498340368270874  seconds\n",
      "WARNING: Representations for images in  /media/lkunam/DVU-Challenge/HLVU/movie_knowledge_graph/honey/image/Person/  folder were previously stored in  representations_vgg_face.pkl . If you added new instances after this file creation, then please delete this file and call find function again. It will create it again.\n",
      "There are  54  representations found in  representations_vgg_face.pkl\n",
      "WARNING: Representations for images in  /media/lkunam/DVU-Challenge/HLVU/movie_knowledge_graph/honey/image/Person/  folder were previously stored in  representations_vgg_face.pkl . If you added new instances after this file creation, then please delete this file and call find function again. It will create it again.\n",
      "There are  54  representations found in  representations_vgg_face.pkl\n",
      "WARNING: Representations for images in  /media/lkunam/DVU-Challenge/HLVU/movie_knowledge_graph/honey/image/Person/  folder were previously stored in  representations_vgg_face.pkl . If you added new instances after this file creation, then please delete this file and call find function again. It will create it again.\n",
      "There are  54  representations found in  representations_vgg_face.pkl\n",
      "WARNING: Representations for images in  /media/lkunam/DVU-Challenge/HLVU/movie_knowledge_graph/honey/image/Person/  folder were previously stored in  representations_vgg_face.pkl . If you added new instances after this file creation, then please delete this file and call find function again. It will create it again.\n",
      "There are  54  representations found in  representations_vgg_face.pkl\n",
      "WARNING: Representations for images in  /media/lkunam/DVU-Challenge/HLVU/movie_knowledge_graph/honey/image/Person/  folder were previously stored in  representations_vgg_face.pkl . If you added new instances after this file creation, then please delete this file and call find function again. It will create it again.\n",
      "There are  54  representations found in  representations_vgg_face.pkl\n",
      "find function lasts  1.653015375137329  seconds\n",
      "WARNING: Representations for images in  /media/lkunam/DVU-Challenge/HLVU/movie_knowledge_graph/honey/image/Person/  folder were previously stored in  representations_vgg_face.pkl . If you added new instances after this file creation, then please delete this file and call find function again. It will create it again.\n",
      "There are  54  representations found in  representations_vgg_face.pkl\n",
      "find function lasts  1.5275495052337646  seconds\n",
      "WARNING: Representations for images in  /media/lkunam/DVU-Challenge/HLVU/movie_knowledge_graph/honey/image/Person/  folder were previously stored in  representations_vgg_face.pkl . If you added new instances after this file creation, then please delete this file and call find function again. It will create it again.\n",
      "There are  54  representations found in  representations_vgg_face.pkl\n",
      "WARNING: Representations for images in  /media/lkunam/DVU-Challenge/HLVU/movie_knowledge_graph/honey/image/Person/  folder were previously stored in  representations_vgg_face.pkl . If you added new instances after this file creation, then please delete this file and call find function again. It will create it again.\n",
      "There are  54  representations found in  representations_vgg_face.pkl\n",
      "WARNING: Representations for images in  /media/lkunam/DVU-Challenge/HLVU/movie_knowledge_graph/honey/image/Person/  folder were previously stored in  representations_vgg_face.pkl . If you added new instances after this file creation, then please delete this file and call find function again. It will create it again.\n",
      "There are  54  representations found in  representations_vgg_face.pkl\n",
      "WARNING: Representations for images in  /media/lkunam/DVU-Challenge/HLVU/movie_knowledge_graph/honey/image/Person/  folder were previously stored in  representations_vgg_face.pkl . If you added new instances after this file creation, then please delete this file and call find function again. It will create it again.\n",
      "There are  54  representations found in  representations_vgg_face.pkl\n",
      "WARNING: Representations for images in  /media/lkunam/DVU-Challenge/HLVU/movie_knowledge_graph/honey/image/Person/  folder were previously stored in  representations_vgg_face.pkl . If you added new instances after this file creation, then please delete this file and call find function again. It will create it again.\n",
      "There are  54  representations found in  representations_vgg_face.pkl\n",
      "WARNING: Representations for images in  /media/lkunam/DVU-Challenge/HLVU/movie_knowledge_graph/honey/image/Person/  folder were previously stored in  representations_vgg_face.pkl . If you added new instances after this file creation, then please delete this file and call find function again. It will create it again.\n",
      "There are  54  representations found in  representations_vgg_face.pkl\n",
      "WARNING: Representations for images in  /media/lkunam/DVU-Challenge/HLVU/movie_knowledge_graph/honey/image/Person/  folder were previously stored in  representations_vgg_face.pkl . If you added new instances after this file creation, then please delete this file and call find function again. It will create it again.\n",
      "There are  54  representations found in  representations_vgg_face.pkl\n"
     ]
    },
    {
     "name": "stderr",
     "output_type": "stream",
     "text": [
      "\r",
      " 35%|███████████████▎                            | 8/23 [13:17<23:48, 95.22s/it]"
     ]
    },
    {
     "name": "stdout",
     "output_type": "stream",
     "text": [
      "WARNING: Representations for images in  /media/lkunam/DVU-Challenge/HLVU/movie_knowledge_graph/honey/image/Person/  folder were previously stored in  representations_vgg_face.pkl . If you added new instances after this file creation, then please delete this file and call find function again. It will create it again.\n",
      "There are  54  representations found in  representations_vgg_face.pkl\n",
      "WARNING: Representations for images in  /media/lkunam/DVU-Challenge/HLVU/movie_knowledge_graph/honey/image/Person/  folder were previously stored in  representations_vgg_face.pkl . If you added new instances after this file creation, then please delete this file and call find function again. It will create it again.\n",
      "There are  54  representations found in  representations_vgg_face.pkl\n",
      "WARNING: Representations for images in  /media/lkunam/DVU-Challenge/HLVU/movie_knowledge_graph/honey/image/Person/  folder were previously stored in  representations_vgg_face.pkl . If you added new instances after this file creation, then please delete this file and call find function again. It will create it again.\n",
      "There are  54  representations found in  representations_vgg_face.pkl\n",
      "WARNING: Representations for images in  /media/lkunam/DVU-Challenge/HLVU/movie_knowledge_graph/honey/image/Person/  folder were previously stored in  representations_vgg_face.pkl . If you added new instances after this file creation, then please delete this file and call find function again. It will create it again.\n",
      "There are  54  representations found in  representations_vgg_face.pkl\n",
      "WARNING: Representations for images in  /media/lkunam/DVU-Challenge/HLVU/movie_knowledge_graph/honey/image/Person/  folder were previously stored in  representations_vgg_face.pkl . If you added new instances after this file creation, then please delete this file and call find function again. It will create it again.\n",
      "There are  54  representations found in  representations_vgg_face.pkl\n",
      "WARNING: Representations for images in  /media/lkunam/DVU-Challenge/HLVU/movie_knowledge_graph/honey/image/Person/  folder were previously stored in  representations_vgg_face.pkl . If you added new instances after this file creation, then please delete this file and call find function again. It will create it again.\n",
      "There are  54  representations found in  representations_vgg_face.pkl\n",
      "find function lasts  1.7107861042022705  seconds\n",
      "WARNING: Representations for images in  /media/lkunam/DVU-Challenge/HLVU/movie_knowledge_graph/honey/image/Person/  folder were previously stored in  representations_vgg_face.pkl . If you added new instances after this file creation, then please delete this file and call find function again. It will create it again.\n",
      "There are  54  representations found in  representations_vgg_face.pkl\n",
      "WARNING: Representations for images in  /media/lkunam/DVU-Challenge/HLVU/movie_knowledge_graph/honey/image/Person/  folder were previously stored in  representations_vgg_face.pkl . If you added new instances after this file creation, then please delete this file and call find function again. It will create it again.\n",
      "There are  54  representations found in  representations_vgg_face.pkl\n",
      "WARNING: Representations for images in  /media/lkunam/DVU-Challenge/HLVU/movie_knowledge_graph/honey/image/Person/  folder were previously stored in  representations_vgg_face.pkl . If you added new instances after this file creation, then please delete this file and call find function again. It will create it again.\n",
      "There are  54  representations found in  representations_vgg_face.pkl\n",
      "WARNING: Representations for images in  /media/lkunam/DVU-Challenge/HLVU/movie_knowledge_graph/honey/image/Person/  folder were previously stored in  representations_vgg_face.pkl . If you added new instances after this file creation, then please delete this file and call find function again. It will create it again.\n",
      "There are  54  representations found in  representations_vgg_face.pkl\n",
      "WARNING: Representations for images in  /media/lkunam/DVU-Challenge/HLVU/movie_knowledge_graph/honey/image/Person/  folder were previously stored in  representations_vgg_face.pkl . If you added new instances after this file creation, then please delete this file and call find function again. It will create it again.\n",
      "There are  54  representations found in  representations_vgg_face.pkl\n",
      "WARNING: Representations for images in  /media/lkunam/DVU-Challenge/HLVU/movie_knowledge_graph/honey/image/Person/  folder were previously stored in  representations_vgg_face.pkl . If you added new instances after this file creation, then please delete this file and call find function again. It will create it again.\n",
      "There are  54  representations found in  representations_vgg_face.pkl\n",
      "WARNING: Representations for images in  /media/lkunam/DVU-Challenge/HLVU/movie_knowledge_graph/honey/image/Person/  folder were previously stored in  representations_vgg_face.pkl . If you added new instances after this file creation, then please delete this file and call find function again. It will create it again.\n",
      "There are  54  representations found in  representations_vgg_face.pkl\n",
      "find function lasts  1.7400777339935303  seconds\n",
      "WARNING: Representations for images in  /media/lkunam/DVU-Challenge/HLVU/movie_knowledge_graph/honey/image/Person/  folder were previously stored in  representations_vgg_face.pkl . If you added new instances after this file creation, then please delete this file and call find function again. It will create it again.\n",
      "There are  54  representations found in  representations_vgg_face.pkl\n",
      "WARNING: Representations for images in  /media/lkunam/DVU-Challenge/HLVU/movie_knowledge_graph/honey/image/Person/  folder were previously stored in  representations_vgg_face.pkl . If you added new instances after this file creation, then please delete this file and call find function again. It will create it again.\n",
      "There are  54  representations found in  representations_vgg_face.pkl\n",
      "WARNING: Representations for images in  /media/lkunam/DVU-Challenge/HLVU/movie_knowledge_graph/honey/image/Person/  folder were previously stored in  representations_vgg_face.pkl . If you added new instances after this file creation, then please delete this file and call find function again. It will create it again.\n",
      "There are  54  representations found in  representations_vgg_face.pkl\n",
      "WARNING: Representations for images in  /media/lkunam/DVU-Challenge/HLVU/movie_knowledge_graph/honey/image/Person/  folder were previously stored in  representations_vgg_face.pkl . If you added new instances after this file creation, then please delete this file and call find function again. It will create it again.\n",
      "There are  54  representations found in  representations_vgg_face.pkl\n",
      "WARNING: Representations for images in  /media/lkunam/DVU-Challenge/HLVU/movie_knowledge_graph/honey/image/Person/  folder were previously stored in  representations_vgg_face.pkl . If you added new instances after this file creation, then please delete this file and call find function again. It will create it again.\n",
      "There are  54  representations found in  representations_vgg_face.pkl\n",
      "WARNING: Representations for images in  /media/lkunam/DVU-Challenge/HLVU/movie_knowledge_graph/honey/image/Person/  folder were previously stored in  representations_vgg_face.pkl . If you added new instances after this file creation, then please delete this file and call find function again. It will create it again.\n",
      "There are  54  representations found in  representations_vgg_face.pkl\n",
      "find function lasts  1.6127500534057617  seconds\n",
      "WARNING: Representations for images in  /media/lkunam/DVU-Challenge/HLVU/movie_knowledge_graph/honey/image/Person/  folder were previously stored in  representations_vgg_face.pkl . If you added new instances after this file creation, then please delete this file and call find function again. It will create it again.\n",
      "There are  54  representations found in  representations_vgg_face.pkl\n",
      "WARNING: Representations for images in  /media/lkunam/DVU-Challenge/HLVU/movie_knowledge_graph/honey/image/Person/  folder were previously stored in  representations_vgg_face.pkl . If you added new instances after this file creation, then please delete this file and call find function again. It will create it again.\n",
      "There are  54  representations found in  representations_vgg_face.pkl\n"
     ]
    },
    {
     "name": "stdout",
     "output_type": "stream",
     "text": [
      "WARNING: Representations for images in  /media/lkunam/DVU-Challenge/HLVU/movie_knowledge_graph/honey/image/Person/  folder were previously stored in  representations_vgg_face.pkl . If you added new instances after this file creation, then please delete this file and call find function again. It will create it again.\n",
      "There are  54  representations found in  representations_vgg_face.pkl\n",
      "WARNING: Representations for images in  /media/lkunam/DVU-Challenge/HLVU/movie_knowledge_graph/honey/image/Person/  folder were previously stored in  representations_vgg_face.pkl . If you added new instances after this file creation, then please delete this file and call find function again. It will create it again.\n",
      "There are  54  representations found in  representations_vgg_face.pkl\n",
      "WARNING: Representations for images in  /media/lkunam/DVU-Challenge/HLVU/movie_knowledge_graph/honey/image/Person/  folder were previously stored in  representations_vgg_face.pkl . If you added new instances after this file creation, then please delete this file and call find function again. It will create it again.\n",
      "There are  54  representations found in  representations_vgg_face.pkl\n",
      "WARNING: Representations for images in  /media/lkunam/DVU-Challenge/HLVU/movie_knowledge_graph/honey/image/Person/  folder were previously stored in  representations_vgg_face.pkl . If you added new instances after this file creation, then please delete this file and call find function again. It will create it again.\n",
      "There are  54  representations found in  representations_vgg_face.pkl\n",
      "WARNING: Representations for images in  /media/lkunam/DVU-Challenge/HLVU/movie_knowledge_graph/honey/image/Person/  folder were previously stored in  representations_vgg_face.pkl . If you added new instances after this file creation, then please delete this file and call find function again. It will create it again.\n",
      "There are  54  representations found in  representations_vgg_face.pkl\n",
      "WARNING: Representations for images in  /media/lkunam/DVU-Challenge/HLVU/movie_knowledge_graph/honey/image/Person/  folder were previously stored in  representations_vgg_face.pkl . If you added new instances after this file creation, then please delete this file and call find function again. It will create it again.\n",
      "There are  54  representations found in  representations_vgg_face.pkl\n",
      "WARNING: Representations for images in  /media/lkunam/DVU-Challenge/HLVU/movie_knowledge_graph/honey/image/Person/  folder were previously stored in  representations_vgg_face.pkl . If you added new instances after this file creation, then please delete this file and call find function again. It will create it again.\n",
      "There are  54  representations found in  representations_vgg_face.pkl\n",
      "WARNING: Representations for images in  /media/lkunam/DVU-Challenge/HLVU/movie_knowledge_graph/honey/image/Person/  folder were previously stored in  representations_vgg_face.pkl . If you added new instances after this file creation, then please delete this file and call find function again. It will create it again.\n",
      "There are  54  representations found in  representations_vgg_face.pkl\n",
      "WARNING: Representations for images in  /media/lkunam/DVU-Challenge/HLVU/movie_knowledge_graph/honey/image/Person/  folder were previously stored in  representations_vgg_face.pkl . If you added new instances after this file creation, then please delete this file and call find function again. It will create it again.\n",
      "There are  54  representations found in  representations_vgg_face.pkl\n",
      "WARNING: Representations for images in  /media/lkunam/DVU-Challenge/HLVU/movie_knowledge_graph/honey/image/Person/  folder were previously stored in  representations_vgg_face.pkl . If you added new instances after this file creation, then please delete this file and call find function again. It will create it again.\n",
      "There are  54  representations found in  representations_vgg_face.pkl\n",
      "WARNING: Representations for images in  /media/lkunam/DVU-Challenge/HLVU/movie_knowledge_graph/honey/image/Person/  folder were previously stored in  representations_vgg_face.pkl . If you added new instances after this file creation, then please delete this file and call find function again. It will create it again.\n",
      "There are  54  representations found in  representations_vgg_face.pkl\n",
      "WARNING: Representations for images in  /media/lkunam/DVU-Challenge/HLVU/movie_knowledge_graph/honey/image/Person/  folder were previously stored in  representations_vgg_face.pkl . If you added new instances after this file creation, then please delete this file and call find function again. It will create it again.\n",
      "There are  54  representations found in  representations_vgg_face.pkl\n",
      "WARNING: Representations for images in  /media/lkunam/DVU-Challenge/HLVU/movie_knowledge_graph/honey/image/Person/  folder were previously stored in  representations_vgg_face.pkl . If you added new instances after this file creation, then please delete this file and call find function again. It will create it again.\n",
      "There are  54  representations found in  representations_vgg_face.pkl\n"
     ]
    },
    {
     "name": "stderr",
     "output_type": "stream",
     "text": [
      "\r",
      " 39%|████████████████▊                          | 9/23 [16:14<28:11, 120.81s/it]"
     ]
    },
    {
     "name": "stdout",
     "output_type": "stream",
     "text": [
      "WARNING: Representations for images in  /media/lkunam/DVU-Challenge/HLVU/movie_knowledge_graph/honey/image/Person/  folder were previously stored in  representations_vgg_face.pkl . If you added new instances after this file creation, then please delete this file and call find function again. It will create it again.\n",
      "There are  54  representations found in  representations_vgg_face.pkl\n",
      "find function lasts  1.4296200275421143  seconds\n",
      "WARNING: Representations for images in  /media/lkunam/DVU-Challenge/HLVU/movie_knowledge_graph/honey/image/Person/  folder were previously stored in  representations_vgg_face.pkl . If you added new instances after this file creation, then please delete this file and call find function again. It will create it again.\n",
      "There are  54  representations found in  representations_vgg_face.pkl\n",
      "WARNING: Representations for images in  /media/lkunam/DVU-Challenge/HLVU/movie_knowledge_graph/honey/image/Person/  folder were previously stored in  representations_vgg_face.pkl . If you added new instances after this file creation, then please delete this file and call find function again. It will create it again.\n",
      "There are  54  representations found in  representations_vgg_face.pkl\n",
      "find function lasts  1.5025522708892822  seconds\n",
      "WARNING: Representations for images in  /media/lkunam/DVU-Challenge/HLVU/movie_knowledge_graph/honey/image/Person/  folder were previously stored in  representations_vgg_face.pkl . If you added new instances after this file creation, then please delete this file and call find function again. It will create it again.\n",
      "There are  54  representations found in  representations_vgg_face.pkl\n",
      "WARNING: Representations for images in  /media/lkunam/DVU-Challenge/HLVU/movie_knowledge_graph/honey/image/Person/  folder were previously stored in  representations_vgg_face.pkl . If you added new instances after this file creation, then please delete this file and call find function again. It will create it again.\n",
      "There are  54  representations found in  representations_vgg_face.pkl\n",
      "WARNING: Representations for images in  /media/lkunam/DVU-Challenge/HLVU/movie_knowledge_graph/honey/image/Person/  folder were previously stored in  representations_vgg_face.pkl . If you added new instances after this file creation, then please delete this file and call find function again. It will create it again.\n",
      "There are  54  representations found in  representations_vgg_face.pkl\n",
      "find function lasts  1.5822300910949707  seconds\n",
      "WARNING: Representations for images in  /media/lkunam/DVU-Challenge/HLVU/movie_knowledge_graph/honey/image/Person/  folder were previously stored in  representations_vgg_face.pkl . If you added new instances after this file creation, then please delete this file and call find function again. It will create it again.\n",
      "There are  54  representations found in  representations_vgg_face.pkl\n",
      "WARNING: Representations for images in  /media/lkunam/DVU-Challenge/HLVU/movie_knowledge_graph/honey/image/Person/  folder were previously stored in  representations_vgg_face.pkl . If you added new instances after this file creation, then please delete this file and call find function again. It will create it again.\n",
      "There are  54  representations found in  representations_vgg_face.pkl\n",
      "find function lasts  1.5839788913726807  seconds\n",
      "WARNING: Representations for images in  /media/lkunam/DVU-Challenge/HLVU/movie_knowledge_graph/honey/image/Person/  folder were previously stored in  representations_vgg_face.pkl . If you added new instances after this file creation, then please delete this file and call find function again. It will create it again.\n",
      "There are  54  representations found in  representations_vgg_face.pkl\n",
      "WARNING: Representations for images in  /media/lkunam/DVU-Challenge/HLVU/movie_knowledge_graph/honey/image/Person/  folder were previously stored in  representations_vgg_face.pkl . If you added new instances after this file creation, then please delete this file and call find function again. It will create it again.\n",
      "There are  54  representations found in  representations_vgg_face.pkl\n"
     ]
    },
    {
     "name": "stderr",
     "output_type": "stream",
     "text": [
      "\r",
      " 43%|██████████████████▋                        | 10/23 [16:56<20:52, 96.32s/it]"
     ]
    },
    {
     "name": "stdout",
     "output_type": "stream",
     "text": [
      "find function lasts  1.5999040603637695  seconds\n",
      "[[[110, 146, 248, 298], 'shot_0000_img_0.jpg', 'Elsie']]\n",
      "WARNING: Representations for images in  /media/lkunam/DVU-Challenge/HLVU/movie_knowledge_graph/honey/image/Person/  folder were previously stored in  representations_vgg_face.pkl . If you added new instances after this file creation, then please delete this file and call find function again. It will create it again.\n",
      "There are  54  representations found in  representations_vgg_face.pkl\n",
      "find function lasts  1.514380931854248  seconds\n",
      "WARNING: Representations for images in  /media/lkunam/DVU-Challenge/HLVU/movie_knowledge_graph/honey/image/Person/  folder were previously stored in  representations_vgg_face.pkl . If you added new instances after this file creation, then please delete this file and call find function again. It will create it again.\n",
      "There are  54  representations found in  representations_vgg_face.pkl\n",
      "WARNING: Representations for images in  /media/lkunam/DVU-Challenge/HLVU/movie_knowledge_graph/honey/image/Person/  folder were previously stored in  representations_vgg_face.pkl . If you added new instances after this file creation, then please delete this file and call find function again. It will create it again.\n",
      "There are  54  representations found in  representations_vgg_face.pkl\n",
      "find function lasts  1.4996581077575684  seconds\n",
      "WARNING: Representations for images in  /media/lkunam/DVU-Challenge/HLVU/movie_knowledge_graph/honey/image/Person/  folder were previously stored in  representations_vgg_face.pkl . If you added new instances after this file creation, then please delete this file and call find function again. It will create it again.\n",
      "There are  54  representations found in  representations_vgg_face.pkl\n",
      "find function lasts  1.4660096168518066  seconds\n",
      "WARNING: Representations for images in  /media/lkunam/DVU-Challenge/HLVU/movie_knowledge_graph/honey/image/Person/  folder were previously stored in  representations_vgg_face.pkl . If you added new instances after this file creation, then please delete this file and call find function again. It will create it again.\n",
      "There are  54  representations found in  representations_vgg_face.pkl\n",
      "WARNING: Representations for images in  /media/lkunam/DVU-Challenge/HLVU/movie_knowledge_graph/honey/image/Person/  folder were previously stored in  representations_vgg_face.pkl . If you added new instances after this file creation, then please delete this file and call find function again. It will create it again.\n",
      "There are  54  representations found in  representations_vgg_face.pkl\n",
      "WARNING: Representations for images in  /media/lkunam/DVU-Challenge/HLVU/movie_knowledge_graph/honey/image/Person/  folder were previously stored in  representations_vgg_face.pkl . If you added new instances after this file creation, then please delete this file and call find function again. It will create it again.\n",
      "There are  54  representations found in  representations_vgg_face.pkl\n",
      "find function lasts  1.5784227848052979  seconds\n",
      "WARNING: Representations for images in  /media/lkunam/DVU-Challenge/HLVU/movie_knowledge_graph/honey/image/Person/  folder were previously stored in  representations_vgg_face.pkl . If you added new instances after this file creation, then please delete this file and call find function again. It will create it again.\n",
      "There are  54  representations found in  representations_vgg_face.pkl\n",
      "WARNING: Representations for images in  /media/lkunam/DVU-Challenge/HLVU/movie_knowledge_graph/honey/image/Person/  folder were previously stored in  representations_vgg_face.pkl . If you added new instances after this file creation, then please delete this file and call find function again. It will create it again.\n",
      "There are  54  representations found in  representations_vgg_face.pkl\n",
      "find function lasts  1.5032052993774414  seconds\n",
      "WARNING: Representations for images in  /media/lkunam/DVU-Challenge/HLVU/movie_knowledge_graph/honey/image/Person/  folder were previously stored in  representations_vgg_face.pkl . If you added new instances after this file creation, then please delete this file and call find function again. It will create it again.\n",
      "There are  54  representations found in  representations_vgg_face.pkl\n",
      "find function lasts  1.50407075881958  seconds\n",
      "WARNING: Representations for images in  /media/lkunam/DVU-Challenge/HLVU/movie_knowledge_graph/honey/image/Person/  folder were previously stored in  representations_vgg_face.pkl . If you added new instances after this file creation, then please delete this file and call find function again. It will create it again.\n",
      "There are  54  representations found in  representations_vgg_face.pkl\n",
      "WARNING: Representations for images in  /media/lkunam/DVU-Challenge/HLVU/movie_knowledge_graph/honey/image/Person/  folder were previously stored in  representations_vgg_face.pkl . If you added new instances after this file creation, then please delete this file and call find function again. It will create it again.\n",
      "There are  54  representations found in  representations_vgg_face.pkl\n",
      "find function lasts  1.4552221298217773  seconds\n",
      "WARNING: Representations for images in  /media/lkunam/DVU-Challenge/HLVU/movie_knowledge_graph/honey/image/Person/  folder were previously stored in  representations_vgg_face.pkl . If you added new instances after this file creation, then please delete this file and call find function again. It will create it again.\n",
      "There are  54  representations found in  representations_vgg_face.pkl\n",
      "find function lasts  1.8871488571166992  seconds\n",
      "WARNING: Representations for images in  /media/lkunam/DVU-Challenge/HLVU/movie_knowledge_graph/honey/image/Person/  folder were previously stored in  representations_vgg_face.pkl . If you added new instances after this file creation, then please delete this file and call find function again. It will create it again.\n",
      "There are  54  representations found in  representations_vgg_face.pkl\n",
      "WARNING: Representations for images in  /media/lkunam/DVU-Challenge/HLVU/movie_knowledge_graph/honey/image/Person/  folder were previously stored in  representations_vgg_face.pkl . If you added new instances after this file creation, then please delete this file and call find function again. It will create it again.\n",
      "There are  54  representations found in  representations_vgg_face.pkl\n",
      "WARNING: Representations for images in  /media/lkunam/DVU-Challenge/HLVU/movie_knowledge_graph/honey/image/Person/  folder were previously stored in  representations_vgg_face.pkl . If you added new instances after this file creation, then please delete this file and call find function again. It will create it again.\n",
      "There are  54  representations found in  representations_vgg_face.pkl\n",
      "WARNING: Representations for images in  /media/lkunam/DVU-Challenge/HLVU/movie_knowledge_graph/honey/image/Person/  folder were previously stored in  representations_vgg_face.pkl . If you added new instances after this file creation, then please delete this file and call find function again. It will create it again.\n",
      "There are  54  representations found in  representations_vgg_face.pkl\n",
      "WARNING: Representations for images in  /media/lkunam/DVU-Challenge/HLVU/movie_knowledge_graph/honey/image/Person/  folder were previously stored in  representations_vgg_face.pkl . If you added new instances after this file creation, then please delete this file and call find function again. It will create it again.\n",
      "There are  54  representations found in  representations_vgg_face.pkl\n",
      "find function lasts  1.4656569957733154  seconds\n",
      "WARNING: Representations for images in  /media/lkunam/DVU-Challenge/HLVU/movie_knowledge_graph/honey/image/Person/  folder were previously stored in  representations_vgg_face.pkl . If you added new instances after this file creation, then please delete this file and call find function again. It will create it again.\n",
      "There are  54  representations found in  representations_vgg_face.pkl\n",
      "find function lasts  1.4824934005737305  seconds\n",
      "WARNING: Representations for images in  /media/lkunam/DVU-Challenge/HLVU/movie_knowledge_graph/honey/image/Person/  folder were previously stored in  representations_vgg_face.pkl . If you added new instances after this file creation, then please delete this file and call find function again. It will create it again.\n",
      "There are  54  representations found in  representations_vgg_face.pkl\n"
     ]
    },
    {
     "name": "stdout",
     "output_type": "stream",
     "text": [
      "find function lasts  1.4692206382751465  seconds\n",
      "WARNING: Representations for images in  /media/lkunam/DVU-Challenge/HLVU/movie_knowledge_graph/honey/image/Person/  folder were previously stored in  representations_vgg_face.pkl . If you added new instances after this file creation, then please delete this file and call find function again. It will create it again.\n",
      "There are  54  representations found in  representations_vgg_face.pkl\n",
      "find function lasts  1.489978313446045  seconds\n",
      "WARNING: Representations for images in  /media/lkunam/DVU-Challenge/HLVU/movie_knowledge_graph/honey/image/Person/  folder were previously stored in  representations_vgg_face.pkl . If you added new instances after this file creation, then please delete this file and call find function again. It will create it again.\n",
      "There are  54  representations found in  representations_vgg_face.pkl\n",
      "WARNING: Representations for images in  /media/lkunam/DVU-Challenge/HLVU/movie_knowledge_graph/honey/image/Person/  folder were previously stored in  representations_vgg_face.pkl . If you added new instances after this file creation, then please delete this file and call find function again. It will create it again.\n",
      "There are  54  representations found in  representations_vgg_face.pkl\n",
      "find function lasts  1.4709804058074951  seconds\n",
      "WARNING: Representations for images in  /media/lkunam/DVU-Challenge/HLVU/movie_knowledge_graph/honey/image/Person/  folder were previously stored in  representations_vgg_face.pkl . If you added new instances after this file creation, then please delete this file and call find function again. It will create it again.\n",
      "There are  54  representations found in  representations_vgg_face.pkl\n",
      "find function lasts  1.5061039924621582  seconds\n",
      "WARNING: Representations for images in  /media/lkunam/DVU-Challenge/HLVU/movie_knowledge_graph/honey/image/Person/  folder were previously stored in  representations_vgg_face.pkl . If you added new instances after this file creation, then please delete this file and call find function again. It will create it again.\n",
      "There are  54  representations found in  representations_vgg_face.pkl\n",
      "find function lasts  1.5183260440826416  seconds\n",
      "WARNING: Representations for images in  /media/lkunam/DVU-Challenge/HLVU/movie_knowledge_graph/honey/image/Person/  folder were previously stored in  representations_vgg_face.pkl . If you added new instances after this file creation, then please delete this file and call find function again. It will create it again.\n",
      "There are  54  representations found in  representations_vgg_face.pkl\n",
      "find function lasts  1.4689412117004395  seconds\n",
      "WARNING: Representations for images in  /media/lkunam/DVU-Challenge/HLVU/movie_knowledge_graph/honey/image/Person/  folder were previously stored in  representations_vgg_face.pkl . If you added new instances after this file creation, then please delete this file and call find function again. It will create it again.\n",
      "There are  54  representations found in  representations_vgg_face.pkl\n",
      "find function lasts  1.4930009841918945  seconds\n",
      "WARNING: Representations for images in  /media/lkunam/DVU-Challenge/HLVU/movie_knowledge_graph/honey/image/Person/  folder were previously stored in  representations_vgg_face.pkl . If you added new instances after this file creation, then please delete this file and call find function again. It will create it again.\n",
      "There are  54  representations found in  representations_vgg_face.pkl\n",
      "WARNING: Representations for images in  /media/lkunam/DVU-Challenge/HLVU/movie_knowledge_graph/honey/image/Person/  folder were previously stored in  representations_vgg_face.pkl . If you added new instances after this file creation, then please delete this file and call find function again. It will create it again.\n",
      "There are  54  representations found in  representations_vgg_face.pkl\n",
      "WARNING: Representations for images in  /media/lkunam/DVU-Challenge/HLVU/movie_knowledge_graph/honey/image/Person/  folder were previously stored in  representations_vgg_face.pkl . If you added new instances after this file creation, then please delete this file and call find function again. It will create it again.\n",
      "There are  54  representations found in  representations_vgg_face.pkl\n",
      "WARNING: Representations for images in  /media/lkunam/DVU-Challenge/HLVU/movie_knowledge_graph/honey/image/Person/  folder were previously stored in  representations_vgg_face.pkl . If you added new instances after this file creation, then please delete this file and call find function again. It will create it again.\n",
      "There are  54  representations found in  representations_vgg_face.pkl\n",
      "WARNING: Representations for images in  /media/lkunam/DVU-Challenge/HLVU/movie_knowledge_graph/honey/image/Person/  folder were previously stored in  representations_vgg_face.pkl . If you added new instances after this file creation, then please delete this file and call find function again. It will create it again.\n",
      "There are  54  representations found in  representations_vgg_face.pkl\n",
      "find function lasts  1.6718392372131348  seconds\n",
      "WARNING: Representations for images in  /media/lkunam/DVU-Challenge/HLVU/movie_knowledge_graph/honey/image/Person/  folder were previously stored in  representations_vgg_face.pkl . If you added new instances after this file creation, then please delete this file and call find function again. It will create it again.\n",
      "There are  54  representations found in  representations_vgg_face.pkl\n",
      "WARNING: Representations for images in  /media/lkunam/DVU-Challenge/HLVU/movie_knowledge_graph/honey/image/Person/  folder were previously stored in  representations_vgg_face.pkl . If you added new instances after this file creation, then please delete this file and call find function again. It will create it again.\n",
      "There are  54  representations found in  representations_vgg_face.pkl\n",
      "WARNING: Representations for images in  /media/lkunam/DVU-Challenge/HLVU/movie_knowledge_graph/honey/image/Person/  folder were previously stored in  representations_vgg_face.pkl . If you added new instances after this file creation, then please delete this file and call find function again. It will create it again.\n",
      "There are  54  representations found in  representations_vgg_face.pkl\n",
      "find function lasts  1.5705795288085938  seconds\n",
      "WARNING: Representations for images in  /media/lkunam/DVU-Challenge/HLVU/movie_knowledge_graph/honey/image/Person/  folder were previously stored in  representations_vgg_face.pkl . If you added new instances after this file creation, then please delete this file and call find function again. It will create it again.\n",
      "There are  54  representations found in  representations_vgg_face.pkl\n",
      "WARNING: Representations for images in  /media/lkunam/DVU-Challenge/HLVU/movie_knowledge_graph/honey/image/Person/  folder were previously stored in  representations_vgg_face.pkl . If you added new instances after this file creation, then please delete this file and call find function again. It will create it again.\n",
      "There are  54  representations found in  representations_vgg_face.pkl\n",
      "find function lasts  1.461817741394043  seconds\n",
      "WARNING: Representations for images in  /media/lkunam/DVU-Challenge/HLVU/movie_knowledge_graph/honey/image/Person/  folder were previously stored in  representations_vgg_face.pkl . If you added new instances after this file creation, then please delete this file and call find function again. It will create it again.\n",
      "There are  54  representations found in  representations_vgg_face.pkl\n",
      "WARNING: Representations for images in  /media/lkunam/DVU-Challenge/HLVU/movie_knowledge_graph/honey/image/Person/  folder were previously stored in  representations_vgg_face.pkl . If you added new instances after this file creation, then please delete this file and call find function again. It will create it again.\n",
      "There are  54  representations found in  representations_vgg_face.pkl\n"
     ]
    },
    {
     "name": "stderr",
     "output_type": "stream",
     "text": [
      "\r",
      " 48%|████████████████████                      | 11/23 [19:11<21:40, 108.36s/it]"
     ]
    },
    {
     "name": "stdout",
     "output_type": "stream",
     "text": [
      "WARNING: Representations for images in  /media/lkunam/DVU-Challenge/HLVU/movie_knowledge_graph/honey/image/Person/  folder were previously stored in  representations_vgg_face.pkl . If you added new instances after this file creation, then please delete this file and call find function again. It will create it again.\n",
      "There are  54  representations found in  representations_vgg_face.pkl\n",
      "WARNING: Representations for images in  /media/lkunam/DVU-Challenge/HLVU/movie_knowledge_graph/honey/image/Person/  folder were previously stored in  representations_vgg_face.pkl . If you added new instances after this file creation, then please delete this file and call find function again. It will create it again.\n",
      "There are  54  representations found in  representations_vgg_face.pkl\n",
      "WARNING: Representations for images in  /media/lkunam/DVU-Challenge/HLVU/movie_knowledge_graph/honey/image/Person/  folder were previously stored in  representations_vgg_face.pkl . If you added new instances after this file creation, then please delete this file and call find function again. It will create it again.\n",
      "There are  54  representations found in  representations_vgg_face.pkl\n",
      "WARNING: Representations for images in  /media/lkunam/DVU-Challenge/HLVU/movie_knowledge_graph/honey/image/Person/  folder were previously stored in  representations_vgg_face.pkl . If you added new instances after this file creation, then please delete this file and call find function again. It will create it again.\n",
      "There are  54  representations found in  representations_vgg_face.pkl\n",
      "WARNING: Representations for images in  /media/lkunam/DVU-Challenge/HLVU/movie_knowledge_graph/honey/image/Person/  folder were previously stored in  representations_vgg_face.pkl . If you added new instances after this file creation, then please delete this file and call find function again. It will create it again.\n",
      "There are  54  representations found in  representations_vgg_face.pkl\n",
      "WARNING: Representations for images in  /media/lkunam/DVU-Challenge/HLVU/movie_knowledge_graph/honey/image/Person/  folder were previously stored in  representations_vgg_face.pkl . If you added new instances after this file creation, then please delete this file and call find function again. It will create it again.\n",
      "There are  54  representations found in  representations_vgg_face.pkl\n",
      "WARNING: Representations for images in  /media/lkunam/DVU-Challenge/HLVU/movie_knowledge_graph/honey/image/Person/  folder were previously stored in  representations_vgg_face.pkl . If you added new instances after this file creation, then please delete this file and call find function again. It will create it again.\n",
      "There are  54  representations found in  representations_vgg_face.pkl\n",
      "WARNING: Representations for images in  /media/lkunam/DVU-Challenge/HLVU/movie_knowledge_graph/honey/image/Person/  folder were previously stored in  representations_vgg_face.pkl . If you added new instances after this file creation, then please delete this file and call find function again. It will create it again.\n",
      "There are  54  representations found in  representations_vgg_face.pkl\n",
      "find function lasts  1.430290937423706  seconds\n",
      "WARNING: Representations for images in  /media/lkunam/DVU-Challenge/HLVU/movie_knowledge_graph/honey/image/Person/  folder were previously stored in  representations_vgg_face.pkl . If you added new instances after this file creation, then please delete this file and call find function again. It will create it again.\n",
      "There are  54  representations found in  representations_vgg_face.pkl\n",
      "WARNING: Representations for images in  /media/lkunam/DVU-Challenge/HLVU/movie_knowledge_graph/honey/image/Person/  folder were previously stored in  representations_vgg_face.pkl . If you added new instances after this file creation, then please delete this file and call find function again. It will create it again.\n",
      "There are  54  representations found in  representations_vgg_face.pkl\n",
      "WARNING: Representations for images in  /media/lkunam/DVU-Challenge/HLVU/movie_knowledge_graph/honey/image/Person/  folder were previously stored in  representations_vgg_face.pkl . If you added new instances after this file creation, then please delete this file and call find function again. It will create it again.\n",
      "There are  54  representations found in  representations_vgg_face.pkl\n",
      "find function lasts  1.6211769580841064  seconds\n",
      "WARNING: Representations for images in  /media/lkunam/DVU-Challenge/HLVU/movie_knowledge_graph/honey/image/Person/  folder were previously stored in  representations_vgg_face.pkl . If you added new instances after this file creation, then please delete this file and call find function again. It will create it again.\n",
      "There are  54  representations found in  representations_vgg_face.pkl\n",
      "find function lasts  1.4441099166870117  seconds\n",
      "WARNING: Representations for images in  /media/lkunam/DVU-Challenge/HLVU/movie_knowledge_graph/honey/image/Person/  folder were previously stored in  representations_vgg_face.pkl . If you added new instances after this file creation, then please delete this file and call find function again. It will create it again.\n",
      "There are  54  representations found in  representations_vgg_face.pkl\n",
      "WARNING: Representations for images in  /media/lkunam/DVU-Challenge/HLVU/movie_knowledge_graph/honey/image/Person/  folder were previously stored in  representations_vgg_face.pkl . If you added new instances after this file creation, then please delete this file and call find function again. It will create it again.\n",
      "There are  54  representations found in  representations_vgg_face.pkl\n",
      "find function lasts  1.5836420059204102  seconds\n",
      "WARNING: Representations for images in  /media/lkunam/DVU-Challenge/HLVU/movie_knowledge_graph/honey/image/Person/  folder were previously stored in  representations_vgg_face.pkl . If you added new instances after this file creation, then please delete this file and call find function again. It will create it again.\n",
      "There are  54  representations found in  representations_vgg_face.pkl\n",
      "WARNING: Representations for images in  /media/lkunam/DVU-Challenge/HLVU/movie_knowledge_graph/honey/image/Person/  folder were previously stored in  representations_vgg_face.pkl . If you added new instances after this file creation, then please delete this file and call find function again. It will create it again.\n",
      "There are  54  representations found in  representations_vgg_face.pkl\n",
      "find function lasts  1.474843978881836  seconds\n",
      "WARNING: Representations for images in  /media/lkunam/DVU-Challenge/HLVU/movie_knowledge_graph/honey/image/Person/  folder were previously stored in  representations_vgg_face.pkl . If you added new instances after this file creation, then please delete this file and call find function again. It will create it again.\n",
      "There are  54  representations found in  representations_vgg_face.pkl\n",
      "find function lasts  1.4959285259246826  seconds\n",
      "WARNING: Representations for images in  /media/lkunam/DVU-Challenge/HLVU/movie_knowledge_graph/honey/image/Person/  folder were previously stored in  representations_vgg_face.pkl . If you added new instances after this file creation, then please delete this file and call find function again. It will create it again.\n",
      "There are  54  representations found in  representations_vgg_face.pkl\n",
      "find function lasts  1.5987553596496582  seconds\n",
      "WARNING: Representations for images in  /media/lkunam/DVU-Challenge/HLVU/movie_knowledge_graph/honey/image/Person/  folder were previously stored in  representations_vgg_face.pkl . If you added new instances after this file creation, then please delete this file and call find function again. It will create it again.\n",
      "There are  54  representations found in  representations_vgg_face.pkl\n",
      "find function lasts  1.4280688762664795  seconds\n",
      "WARNING: Representations for images in  /media/lkunam/DVU-Challenge/HLVU/movie_knowledge_graph/honey/image/Person/  folder were previously stored in  representations_vgg_face.pkl . If you added new instances after this file creation, then please delete this file and call find function again. It will create it again.\n",
      "There are  54  representations found in  representations_vgg_face.pkl\n",
      "WARNING: Representations for images in  /media/lkunam/DVU-Challenge/HLVU/movie_knowledge_graph/honey/image/Person/  folder were previously stored in  representations_vgg_face.pkl . If you added new instances after this file creation, then please delete this file and call find function again. It will create it again.\n",
      "There are  54  representations found in  representations_vgg_face.pkl\n"
     ]
    },
    {
     "name": "stdout",
     "output_type": "stream",
     "text": [
      "find function lasts  1.4608142375946045  seconds\n",
      "WARNING: Representations for images in  /media/lkunam/DVU-Challenge/HLVU/movie_knowledge_graph/honey/image/Person/  folder were previously stored in  representations_vgg_face.pkl . If you added new instances after this file creation, then please delete this file and call find function again. It will create it again.\n",
      "There are  54  representations found in  representations_vgg_face.pkl\n",
      "WARNING: Representations for images in  /media/lkunam/DVU-Challenge/HLVU/movie_knowledge_graph/honey/image/Person/  folder were previously stored in  representations_vgg_face.pkl . If you added new instances after this file creation, then please delete this file and call find function again. It will create it again.\n",
      "There are  54  representations found in  representations_vgg_face.pkl\n",
      "WARNING: Representations for images in  /media/lkunam/DVU-Challenge/HLVU/movie_knowledge_graph/honey/image/Person/  folder were previously stored in  representations_vgg_face.pkl . If you added new instances after this file creation, then please delete this file and call find function again. It will create it again.\n",
      "There are  54  representations found in  representations_vgg_face.pkl\n",
      "WARNING: Representations for images in  /media/lkunam/DVU-Challenge/HLVU/movie_knowledge_graph/honey/image/Person/  folder were previously stored in  representations_vgg_face.pkl . If you added new instances after this file creation, then please delete this file and call find function again. It will create it again.\n",
      "There are  54  representations found in  representations_vgg_face.pkl\n"
     ]
    },
    {
     "name": "stderr",
     "output_type": "stream",
     "text": [
      "\r",
      " 52%|█████████████████████▉                    | 12/23 [20:40<18:46, 102.37s/it]"
     ]
    },
    {
     "name": "stdout",
     "output_type": "stream",
     "text": [
      "WARNING: Representations for images in  /media/lkunam/DVU-Challenge/HLVU/movie_knowledge_graph/honey/image/Person/  folder were previously stored in  representations_vgg_face.pkl . If you added new instances after this file creation, then please delete this file and call find function again. It will create it again.\n",
      "There are  54  representations found in  representations_vgg_face.pkl\n",
      "WARNING: Representations for images in  /media/lkunam/DVU-Challenge/HLVU/movie_knowledge_graph/honey/image/Person/  folder were previously stored in  representations_vgg_face.pkl . If you added new instances after this file creation, then please delete this file and call find function again. It will create it again.\n",
      "There are  54  representations found in  representations_vgg_face.pkl\n",
      "WARNING: Representations for images in  /media/lkunam/DVU-Challenge/HLVU/movie_knowledge_graph/honey/image/Person/  folder were previously stored in  representations_vgg_face.pkl . If you added new instances after this file creation, then please delete this file and call find function again. It will create it again.\n",
      "There are  54  representations found in  representations_vgg_face.pkl\n",
      "WARNING: Representations for images in  /media/lkunam/DVU-Challenge/HLVU/movie_knowledge_graph/honey/image/Person/  folder were previously stored in  representations_vgg_face.pkl . If you added new instances after this file creation, then please delete this file and call find function again. It will create it again.\n",
      "There are  54  representations found in  representations_vgg_face.pkl\n",
      "find function lasts  1.4410109519958496  seconds\n",
      "WARNING: Representations for images in  /media/lkunam/DVU-Challenge/HLVU/movie_knowledge_graph/honey/image/Person/  folder were previously stored in  representations_vgg_face.pkl . If you added new instances after this file creation, then please delete this file and call find function again. It will create it again.\n",
      "There are  54  representations found in  representations_vgg_face.pkl\n",
      "WARNING: Representations for images in  /media/lkunam/DVU-Challenge/HLVU/movie_knowledge_graph/honey/image/Person/  folder were previously stored in  representations_vgg_face.pkl . If you added new instances after this file creation, then please delete this file and call find function again. It will create it again.\n",
      "There are  54  representations found in  representations_vgg_face.pkl\n",
      "WARNING: Representations for images in  /media/lkunam/DVU-Challenge/HLVU/movie_knowledge_graph/honey/image/Person/  folder were previously stored in  representations_vgg_face.pkl . If you added new instances after this file creation, then please delete this file and call find function again. It will create it again.\n",
      "There are  54  representations found in  representations_vgg_face.pkl\n",
      "WARNING: Representations for images in  /media/lkunam/DVU-Challenge/HLVU/movie_knowledge_graph/honey/image/Person/  folder were previously stored in  representations_vgg_face.pkl . If you added new instances after this file creation, then please delete this file and call find function again. It will create it again.\n",
      "There are  54  representations found in  representations_vgg_face.pkl\n",
      "find function lasts  1.5430142879486084  seconds\n",
      "WARNING: Representations for images in  /media/lkunam/DVU-Challenge/HLVU/movie_knowledge_graph/honey/image/Person/  folder were previously stored in  representations_vgg_face.pkl . If you added new instances after this file creation, then please delete this file and call find function again. It will create it again.\n",
      "There are  54  representations found in  representations_vgg_face.pkl\n",
      "find function lasts  1.4797723293304443  seconds\n",
      "WARNING: Representations for images in  /media/lkunam/DVU-Challenge/HLVU/movie_knowledge_graph/honey/image/Person/  folder were previously stored in  representations_vgg_face.pkl . If you added new instances after this file creation, then please delete this file and call find function again. It will create it again.\n",
      "There are  54  representations found in  representations_vgg_face.pkl\n",
      "WARNING: Representations for images in  /media/lkunam/DVU-Challenge/HLVU/movie_knowledge_graph/honey/image/Person/  folder were previously stored in  representations_vgg_face.pkl . If you added new instances after this file creation, then please delete this file and call find function again. It will create it again.\n",
      "There are  54  representations found in  representations_vgg_face.pkl\n",
      "find function lasts  1.831557035446167  seconds\n",
      "WARNING: Representations for images in  /media/lkunam/DVU-Challenge/HLVU/movie_knowledge_graph/honey/image/Person/  folder were previously stored in  representations_vgg_face.pkl . If you added new instances after this file creation, then please delete this file and call find function again. It will create it again.\n",
      "There are  54  representations found in  representations_vgg_face.pkl\n",
      "WARNING: Representations for images in  /media/lkunam/DVU-Challenge/HLVU/movie_knowledge_graph/honey/image/Person/  folder were previously stored in  representations_vgg_face.pkl . If you added new instances after this file creation, then please delete this file and call find function again. It will create it again.\n",
      "There are  54  representations found in  representations_vgg_face.pkl\n",
      "find function lasts  1.6496334075927734  seconds\n",
      "WARNING: Representations for images in  /media/lkunam/DVU-Challenge/HLVU/movie_knowledge_graph/honey/image/Person/  folder were previously stored in  representations_vgg_face.pkl . If you added new instances after this file creation, then please delete this file and call find function again. It will create it again.\n",
      "There are  54  representations found in  representations_vgg_face.pkl\n",
      "WARNING: Representations for images in  /media/lkunam/DVU-Challenge/HLVU/movie_knowledge_graph/honey/image/Person/  folder were previously stored in  representations_vgg_face.pkl . If you added new instances after this file creation, then please delete this file and call find function again. It will create it again.\n",
      "There are  54  representations found in  representations_vgg_face.pkl\n",
      "find function lasts  1.5848639011383057  seconds\n",
      "WARNING: Representations for images in  /media/lkunam/DVU-Challenge/HLVU/movie_knowledge_graph/honey/image/Person/  folder were previously stored in  representations_vgg_face.pkl . If you added new instances after this file creation, then please delete this file and call find function again. It will create it again.\n",
      "There are  54  representations found in  representations_vgg_face.pkl\n",
      "WARNING: Representations for images in  /media/lkunam/DVU-Challenge/HLVU/movie_knowledge_graph/honey/image/Person/  folder were previously stored in  representations_vgg_face.pkl . If you added new instances after this file creation, then please delete this file and call find function again. It will create it again.\n",
      "There are  54  representations found in  representations_vgg_face.pkl\n",
      "WARNING: Representations for images in  /media/lkunam/DVU-Challenge/HLVU/movie_knowledge_graph/honey/image/Person/  folder were previously stored in  representations_vgg_face.pkl . If you added new instances after this file creation, then please delete this file and call find function again. It will create it again.\n",
      "There are  54  representations found in  representations_vgg_face.pkl\n",
      "WARNING: Representations for images in  /media/lkunam/DVU-Challenge/HLVU/movie_knowledge_graph/honey/image/Person/  folder were previously stored in  representations_vgg_face.pkl . If you added new instances after this file creation, then please delete this file and call find function again. It will create it again.\n",
      "There are  54  representations found in  representations_vgg_face.pkl\n",
      "WARNING: Representations for images in  /media/lkunam/DVU-Challenge/HLVU/movie_knowledge_graph/honey/image/Person/  folder were previously stored in  representations_vgg_face.pkl . If you added new instances after this file creation, then please delete this file and call find function again. It will create it again.\n",
      "There are  54  representations found in  representations_vgg_face.pkl\n",
      "WARNING: Representations for images in  /media/lkunam/DVU-Challenge/HLVU/movie_knowledge_graph/honey/image/Person/  folder were previously stored in  representations_vgg_face.pkl . If you added new instances after this file creation, then please delete this file and call find function again. It will create it again.\n",
      "There are  54  representations found in  representations_vgg_face.pkl\n"
     ]
    },
    {
     "name": "stdout",
     "output_type": "stream",
     "text": [
      "WARNING: Representations for images in  /media/lkunam/DVU-Challenge/HLVU/movie_knowledge_graph/honey/image/Person/  folder were previously stored in  representations_vgg_face.pkl . If you added new instances after this file creation, then please delete this file and call find function again. It will create it again.\n",
      "There are  54  representations found in  representations_vgg_face.pkl\n",
      "find function lasts  1.737381935119629  seconds\n",
      "WARNING: Representations for images in  /media/lkunam/DVU-Challenge/HLVU/movie_knowledge_graph/honey/image/Person/  folder were previously stored in  representations_vgg_face.pkl . If you added new instances after this file creation, then please delete this file and call find function again. It will create it again.\n",
      "There are  54  representations found in  representations_vgg_face.pkl\n",
      "WARNING: Representations for images in  /media/lkunam/DVU-Challenge/HLVU/movie_knowledge_graph/honey/image/Person/  folder were previously stored in  representations_vgg_face.pkl . If you added new instances after this file creation, then please delete this file and call find function again. It will create it again.\n",
      "There are  54  representations found in  representations_vgg_face.pkl\n",
      "WARNING: Representations for images in  /media/lkunam/DVU-Challenge/HLVU/movie_knowledge_graph/honey/image/Person/  folder were previously stored in  representations_vgg_face.pkl . If you added new instances after this file creation, then please delete this file and call find function again. It will create it again.\n",
      "There are  54  representations found in  representations_vgg_face.pkl\n",
      "WARNING: Representations for images in  /media/lkunam/DVU-Challenge/HLVU/movie_knowledge_graph/honey/image/Person/  folder were previously stored in  representations_vgg_face.pkl . If you added new instances after this file creation, then please delete this file and call find function again. It will create it again.\n",
      "There are  54  representations found in  representations_vgg_face.pkl\n",
      "find function lasts  1.5693209171295166  seconds\n",
      "WARNING: Representations for images in  /media/lkunam/DVU-Challenge/HLVU/movie_knowledge_graph/honey/image/Person/  folder were previously stored in  representations_vgg_face.pkl . If you added new instances after this file creation, then please delete this file and call find function again. It will create it again.\n",
      "There are  54  representations found in  representations_vgg_face.pkl\n",
      "WARNING: Representations for images in  /media/lkunam/DVU-Challenge/HLVU/movie_knowledge_graph/honey/image/Person/  folder were previously stored in  representations_vgg_face.pkl . If you added new instances after this file creation, then please delete this file and call find function again. It will create it again.\n",
      "There are  54  representations found in  representations_vgg_face.pkl\n",
      "find function lasts  1.7299025058746338  seconds\n",
      "WARNING: Representations for images in  /media/lkunam/DVU-Challenge/HLVU/movie_knowledge_graph/honey/image/Person/  folder were previously stored in  representations_vgg_face.pkl . If you added new instances after this file creation, then please delete this file and call find function again. It will create it again.\n",
      "There are  54  representations found in  representations_vgg_face.pkl\n",
      "WARNING: Representations for images in  /media/lkunam/DVU-Challenge/HLVU/movie_knowledge_graph/honey/image/Person/  folder were previously stored in  representations_vgg_face.pkl . If you added new instances after this file creation, then please delete this file and call find function again. It will create it again.\n",
      "There are  54  representations found in  representations_vgg_face.pkl\n",
      "WARNING: Representations for images in  /media/lkunam/DVU-Challenge/HLVU/movie_knowledge_graph/honey/image/Person/  folder were previously stored in  representations_vgg_face.pkl . If you added new instances after this file creation, then please delete this file and call find function again. It will create it again.\n",
      "There are  54  representations found in  representations_vgg_face.pkl\n",
      "find function lasts  1.4682986736297607  seconds\n",
      "WARNING: Representations for images in  /media/lkunam/DVU-Challenge/HLVU/movie_knowledge_graph/honey/image/Person/  folder were previously stored in  representations_vgg_face.pkl . If you added new instances after this file creation, then please delete this file and call find function again. It will create it again.\n",
      "There are  54  representations found in  representations_vgg_face.pkl\n",
      "WARNING: Representations for images in  /media/lkunam/DVU-Challenge/HLVU/movie_knowledge_graph/honey/image/Person/  folder were previously stored in  representations_vgg_face.pkl . If you added new instances after this file creation, then please delete this file and call find function again. It will create it again.\n",
      "There are  54  representations found in  representations_vgg_face.pkl\n",
      "WARNING: Representations for images in  /media/lkunam/DVU-Challenge/HLVU/movie_knowledge_graph/honey/image/Person/  folder were previously stored in  representations_vgg_face.pkl . If you added new instances after this file creation, then please delete this file and call find function again. It will create it again.\n",
      "There are  54  representations found in  representations_vgg_face.pkl\n",
      "WARNING: Representations for images in  /media/lkunam/DVU-Challenge/HLVU/movie_knowledge_graph/honey/image/Person/  folder were previously stored in  representations_vgg_face.pkl . If you added new instances after this file creation, then please delete this file and call find function again. It will create it again.\n",
      "There are  54  representations found in  representations_vgg_face.pkl\n",
      "WARNING: Representations for images in  /media/lkunam/DVU-Challenge/HLVU/movie_knowledge_graph/honey/image/Person/  folder were previously stored in  representations_vgg_face.pkl . If you added new instances after this file creation, then please delete this file and call find function again. It will create it again.\n",
      "There are  54  representations found in  representations_vgg_face.pkl\n",
      "WARNING: Representations for images in  /media/lkunam/DVU-Challenge/HLVU/movie_knowledge_graph/honey/image/Person/  folder were previously stored in  representations_vgg_face.pkl . If you added new instances after this file creation, then please delete this file and call find function again. It will create it again.\n",
      "There are  54  representations found in  representations_vgg_face.pkl\n",
      "WARNING: Representations for images in  /media/lkunam/DVU-Challenge/HLVU/movie_knowledge_graph/honey/image/Person/  folder were previously stored in  representations_vgg_face.pkl . If you added new instances after this file creation, then please delete this file and call find function again. It will create it again.\n",
      "There are  54  representations found in  representations_vgg_face.pkl\n",
      "WARNING: Representations for images in  /media/lkunam/DVU-Challenge/HLVU/movie_knowledge_graph/honey/image/Person/  folder were previously stored in  representations_vgg_face.pkl . If you added new instances after this file creation, then please delete this file and call find function again. It will create it again.\n",
      "There are  54  representations found in  representations_vgg_face.pkl\n",
      "find function lasts  1.6525566577911377  seconds\n",
      "WARNING: Representations for images in  /media/lkunam/DVU-Challenge/HLVU/movie_knowledge_graph/honey/image/Person/  folder were previously stored in  representations_vgg_face.pkl . If you added new instances after this file creation, then please delete this file and call find function again. It will create it again.\n",
      "There are  54  representations found in  representations_vgg_face.pkl\n",
      "WARNING: Representations for images in  /media/lkunam/DVU-Challenge/HLVU/movie_knowledge_graph/honey/image/Person/  folder were previously stored in  representations_vgg_face.pkl . If you added new instances after this file creation, then please delete this file and call find function again. It will create it again.\n",
      "There are  54  representations found in  representations_vgg_face.pkl\n",
      "WARNING: Representations for images in  /media/lkunam/DVU-Challenge/HLVU/movie_knowledge_graph/honey/image/Person/  folder were previously stored in  representations_vgg_face.pkl . If you added new instances after this file creation, then please delete this file and call find function again. It will create it again.\n",
      "There are  54  representations found in  representations_vgg_face.pkl\n"
     ]
    },
    {
     "name": "stdout",
     "output_type": "stream",
     "text": [
      "WARNING: Representations for images in  /media/lkunam/DVU-Challenge/HLVU/movie_knowledge_graph/honey/image/Person/  folder were previously stored in  representations_vgg_face.pkl . If you added new instances after this file creation, then please delete this file and call find function again. It will create it again.\n",
      "There are  54  representations found in  representations_vgg_face.pkl\n",
      "find function lasts  1.6382148265838623  seconds\n",
      "WARNING: Representations for images in  /media/lkunam/DVU-Challenge/HLVU/movie_knowledge_graph/honey/image/Person/  folder were previously stored in  representations_vgg_face.pkl . If you added new instances after this file creation, then please delete this file and call find function again. It will create it again.\n",
      "There are  54  representations found in  representations_vgg_face.pkl\n",
      "WARNING: Representations for images in  /media/lkunam/DVU-Challenge/HLVU/movie_knowledge_graph/honey/image/Person/  folder were previously stored in  representations_vgg_face.pkl . If you added new instances after this file creation, then please delete this file and call find function again. It will create it again.\n",
      "There are  54  representations found in  representations_vgg_face.pkl\n",
      "WARNING: Representations for images in  /media/lkunam/DVU-Challenge/HLVU/movie_knowledge_graph/honey/image/Person/  folder were previously stored in  representations_vgg_face.pkl . If you added new instances after this file creation, then please delete this file and call find function again. It will create it again.\n",
      "There are  54  representations found in  representations_vgg_face.pkl\n"
     ]
    },
    {
     "name": "stderr",
     "output_type": "stream",
     "text": [
      "\r",
      " 57%|███████████████████████▋                  | 13/23 [24:28<23:25, 140.54s/it]"
     ]
    },
    {
     "name": "stdout",
     "output_type": "stream",
     "text": [
      "WARNING: Representations for images in  /media/lkunam/DVU-Challenge/HLVU/movie_knowledge_graph/honey/image/Person/  folder were previously stored in  representations_vgg_face.pkl . If you added new instances after this file creation, then please delete this file and call find function again. It will create it again.\n",
      "There are  54  representations found in  representations_vgg_face.pkl\n",
      "find function lasts  1.549774169921875  seconds\n",
      "WARNING: Representations for images in  /media/lkunam/DVU-Challenge/HLVU/movie_knowledge_graph/honey/image/Person/  folder were previously stored in  representations_vgg_face.pkl . If you added new instances after this file creation, then please delete this file and call find function again. It will create it again.\n",
      "There are  54  representations found in  representations_vgg_face.pkl\n",
      "WARNING: Representations for images in  /media/lkunam/DVU-Challenge/HLVU/movie_knowledge_graph/honey/image/Person/  folder were previously stored in  representations_vgg_face.pkl . If you added new instances after this file creation, then please delete this file and call find function again. It will create it again.\n",
      "There are  54  representations found in  representations_vgg_face.pkl\n",
      "WARNING: Representations for images in  /media/lkunam/DVU-Challenge/HLVU/movie_knowledge_graph/honey/image/Person/  folder were previously stored in  representations_vgg_face.pkl . If you added new instances after this file creation, then please delete this file and call find function again. It will create it again.\n",
      "There are  54  representations found in  representations_vgg_face.pkl\n",
      "WARNING: Representations for images in  /media/lkunam/DVU-Challenge/HLVU/movie_knowledge_graph/honey/image/Person/  folder were previously stored in  representations_vgg_face.pkl . If you added new instances after this file creation, then please delete this file and call find function again. It will create it again.\n",
      "There are  54  representations found in  representations_vgg_face.pkl\n",
      "WARNING: Representations for images in  /media/lkunam/DVU-Challenge/HLVU/movie_knowledge_graph/honey/image/Person/  folder were previously stored in  representations_vgg_face.pkl . If you added new instances after this file creation, then please delete this file and call find function again. It will create it again.\n",
      "There are  54  representations found in  representations_vgg_face.pkl\n",
      "find function lasts  1.4917309284210205  seconds\n",
      "WARNING: Representations for images in  /media/lkunam/DVU-Challenge/HLVU/movie_knowledge_graph/honey/image/Person/  folder were previously stored in  representations_vgg_face.pkl . If you added new instances after this file creation, then please delete this file and call find function again. It will create it again.\n",
      "There are  54  representations found in  representations_vgg_face.pkl\n"
     ]
    },
    {
     "name": "stderr",
     "output_type": "stream",
     "text": [
      "\r",
      " 61%|█████████████████████████▌                | 14/23 [25:17<16:55, 112.81s/it]"
     ]
    },
    {
     "name": "stdout",
     "output_type": "stream",
     "text": [
      "WARNING: Representations for images in  /media/lkunam/DVU-Challenge/HLVU/movie_knowledge_graph/honey/image/Person/  folder were previously stored in  representations_vgg_face.pkl . If you added new instances after this file creation, then please delete this file and call find function again. It will create it again.\n",
      "There are  54  representations found in  representations_vgg_face.pkl\n",
      "WARNING: Representations for images in  /media/lkunam/DVU-Challenge/HLVU/movie_knowledge_graph/honey/image/Person/  folder were previously stored in  representations_vgg_face.pkl . If you added new instances after this file creation, then please delete this file and call find function again. It will create it again.\n",
      "There are  54  representations found in  representations_vgg_face.pkl\n",
      "WARNING: Representations for images in  /media/lkunam/DVU-Challenge/HLVU/movie_knowledge_graph/honey/image/Person/  folder were previously stored in  representations_vgg_face.pkl . If you added new instances after this file creation, then please delete this file and call find function again. It will create it again.\n",
      "There are  54  representations found in  representations_vgg_face.pkl\n",
      "find function lasts  1.3081748485565186  seconds\n"
     ]
    },
    {
     "name": "stderr",
     "output_type": "stream",
     "text": [
      "\r",
      " 65%|████████████████████████████               | 15/23 [25:43<11:32, 86.51s/it]"
     ]
    },
    {
     "name": "stdout",
     "output_type": "stream",
     "text": [
      "WARNING: Representations for images in  /media/lkunam/DVU-Challenge/HLVU/movie_knowledge_graph/honey/image/Person/  folder were previously stored in  representations_vgg_face.pkl . If you added new instances after this file creation, then please delete this file and call find function again. It will create it again.\n",
      "There are  54  representations found in  representations_vgg_face.pkl\n",
      "WARNING: Representations for images in  /media/lkunam/DVU-Challenge/HLVU/movie_knowledge_graph/honey/image/Person/  folder were previously stored in  representations_vgg_face.pkl . If you added new instances after this file creation, then please delete this file and call find function again. It will create it again.\n",
      "There are  54  representations found in  representations_vgg_face.pkl\n",
      "find function lasts  1.5884525775909424  seconds\n",
      "WARNING: Representations for images in  /media/lkunam/DVU-Challenge/HLVU/movie_knowledge_graph/honey/image/Person/  folder were previously stored in  representations_vgg_face.pkl . If you added new instances after this file creation, then please delete this file and call find function again. It will create it again.\n",
      "There are  54  representations found in  representations_vgg_face.pkl\n",
      "WARNING: Representations for images in  /media/lkunam/DVU-Challenge/HLVU/movie_knowledge_graph/honey/image/Person/  folder were previously stored in  representations_vgg_face.pkl . If you added new instances after this file creation, then please delete this file and call find function again. It will create it again.\n",
      "There are  54  representations found in  representations_vgg_face.pkl\n"
     ]
    },
    {
     "name": "stderr",
     "output_type": "stream",
     "text": [
      "\r",
      " 70%|█████████████████████████████▉             | 16/23 [26:11<08:02, 68.89s/it]"
     ]
    },
    {
     "name": "stdout",
     "output_type": "stream",
     "text": [
      "WARNING: Representations for images in  /media/lkunam/DVU-Challenge/HLVU/movie_knowledge_graph/honey/image/Person/  folder were previously stored in  representations_vgg_face.pkl . If you added new instances after this file creation, then please delete this file and call find function again. It will create it again.\n",
      "There are  54  representations found in  representations_vgg_face.pkl\n",
      "WARNING: Representations for images in  /media/lkunam/DVU-Challenge/HLVU/movie_knowledge_graph/honey/image/Person/  folder were previously stored in  representations_vgg_face.pkl . If you added new instances after this file creation, then please delete this file and call find function again. It will create it again.\n",
      "There are  54  representations found in  representations_vgg_face.pkl\n",
      "WARNING: Representations for images in  /media/lkunam/DVU-Challenge/HLVU/movie_knowledge_graph/honey/image/Person/  folder were previously stored in  representations_vgg_face.pkl . If you added new instances after this file creation, then please delete this file and call find function again. It will create it again.\n",
      "There are  54  representations found in  representations_vgg_face.pkl\n",
      "WARNING: Representations for images in  /media/lkunam/DVU-Challenge/HLVU/movie_knowledge_graph/honey/image/Person/  folder were previously stored in  representations_vgg_face.pkl . If you added new instances after this file creation, then please delete this file and call find function again. It will create it again.\n",
      "There are  54  representations found in  representations_vgg_face.pkl\n",
      "WARNING: Representations for images in  /media/lkunam/DVU-Challenge/HLVU/movie_knowledge_graph/honey/image/Person/  folder were previously stored in  representations_vgg_face.pkl . If you added new instances after this file creation, then please delete this file and call find function again. It will create it again.\n",
      "There are  54  representations found in  representations_vgg_face.pkl\n",
      "WARNING: Representations for images in  /media/lkunam/DVU-Challenge/HLVU/movie_knowledge_graph/honey/image/Person/  folder were previously stored in  representations_vgg_face.pkl . If you added new instances after this file creation, then please delete this file and call find function again. It will create it again.\n",
      "There are  54  representations found in  representations_vgg_face.pkl\n",
      "WARNING: Representations for images in  /media/lkunam/DVU-Challenge/HLVU/movie_knowledge_graph/honey/image/Person/  folder were previously stored in  representations_vgg_face.pkl . If you added new instances after this file creation, then please delete this file and call find function again. It will create it again.\n",
      "There are  54  representations found in  representations_vgg_face.pkl\n",
      "find function lasts  1.5677616596221924  seconds\n",
      "WARNING: Representations for images in  /media/lkunam/DVU-Challenge/HLVU/movie_knowledge_graph/honey/image/Person/  folder were previously stored in  representations_vgg_face.pkl . If you added new instances after this file creation, then please delete this file and call find function again. It will create it again.\n",
      "There are  54  representations found in  representations_vgg_face.pkl\n",
      "find function lasts  1.4103963375091553  seconds\n",
      "WARNING: Representations for images in  /media/lkunam/DVU-Challenge/HLVU/movie_knowledge_graph/honey/image/Person/  folder were previously stored in  representations_vgg_face.pkl . If you added new instances after this file creation, then please delete this file and call find function again. It will create it again.\n",
      "There are  54  representations found in  representations_vgg_face.pkl\n",
      "find function lasts  1.3464040756225586  seconds\n",
      "WARNING: Representations for images in  /media/lkunam/DVU-Challenge/HLVU/movie_knowledge_graph/honey/image/Person/  folder were previously stored in  representations_vgg_face.pkl . If you added new instances after this file creation, then please delete this file and call find function again. It will create it again.\n",
      "There are  54  representations found in  representations_vgg_face.pkl\n",
      "find function lasts  1.3607761859893799  seconds\n",
      "WARNING: Representations for images in  /media/lkunam/DVU-Challenge/HLVU/movie_knowledge_graph/honey/image/Person/  folder were previously stored in  representations_vgg_face.pkl . If you added new instances after this file creation, then please delete this file and call find function again. It will create it again.\n",
      "There are  54  representations found in  representations_vgg_face.pkl\n",
      "WARNING: Representations for images in  /media/lkunam/DVU-Challenge/HLVU/movie_knowledge_graph/honey/image/Person/  folder were previously stored in  representations_vgg_face.pkl . If you added new instances after this file creation, then please delete this file and call find function again. It will create it again.\n",
      "There are  54  representations found in  representations_vgg_face.pkl\n",
      "WARNING: Representations for images in  /media/lkunam/DVU-Challenge/HLVU/movie_knowledge_graph/honey/image/Person/  folder were previously stored in  representations_vgg_face.pkl . If you added new instances after this file creation, then please delete this file and call find function again. It will create it again.\n",
      "There are  54  representations found in  representations_vgg_face.pkl\n",
      "WARNING: Representations for images in  /media/lkunam/DVU-Challenge/HLVU/movie_knowledge_graph/honey/image/Person/  folder were previously stored in  representations_vgg_face.pkl . If you added new instances after this file creation, then please delete this file and call find function again. It will create it again.\n",
      "There are  54  representations found in  representations_vgg_face.pkl\n",
      "WARNING: Representations for images in  /media/lkunam/DVU-Challenge/HLVU/movie_knowledge_graph/honey/image/Person/  folder were previously stored in  representations_vgg_face.pkl . If you added new instances after this file creation, then please delete this file and call find function again. It will create it again.\n",
      "There are  54  representations found in  representations_vgg_face.pkl\n"
     ]
    },
    {
     "name": "stderr",
     "output_type": "stream",
     "text": [
      "\r",
      " 74%|███████████████████████████████▊           | 17/23 [27:19<06:51, 68.65s/it]"
     ]
    },
    {
     "name": "stdout",
     "output_type": "stream",
     "text": [
      "WARNING: Representations for images in  /media/lkunam/DVU-Challenge/HLVU/movie_knowledge_graph/honey/image/Person/  folder were previously stored in  representations_vgg_face.pkl . If you added new instances after this file creation, then please delete this file and call find function again. It will create it again.\n",
      "There are  54  representations found in  representations_vgg_face.pkl\n",
      "find function lasts  1.4110212326049805  seconds\n",
      "WARNING: Representations for images in  /media/lkunam/DVU-Challenge/HLVU/movie_knowledge_graph/honey/image/Person/  folder were previously stored in  representations_vgg_face.pkl . If you added new instances after this file creation, then please delete this file and call find function again. It will create it again.\n",
      "There are  54  representations found in  representations_vgg_face.pkl\n",
      "WARNING: Representations for images in  /media/lkunam/DVU-Challenge/HLVU/movie_knowledge_graph/honey/image/Person/  folder were previously stored in  representations_vgg_face.pkl . If you added new instances after this file creation, then please delete this file and call find function again. It will create it again.\n",
      "There are  54  representations found in  representations_vgg_face.pkl\n",
      "find function lasts  1.5222575664520264  seconds\n"
     ]
    },
    {
     "name": "stderr",
     "output_type": "stream",
     "text": [
      "\r",
      " 78%|█████████████████████████████████▋         | 18/23 [27:37<04:27, 53.42s/it]"
     ]
    },
    {
     "name": "stdout",
     "output_type": "stream",
     "text": [
      "WARNING: Representations for images in  /media/lkunam/DVU-Challenge/HLVU/movie_knowledge_graph/honey/image/Person/  folder were previously stored in  representations_vgg_face.pkl . If you added new instances after this file creation, then please delete this file and call find function again. It will create it again.\n",
      "There are  54  representations found in  representations_vgg_face.pkl\n",
      "find function lasts  1.5772056579589844  seconds\n",
      "WARNING: Representations for images in  /media/lkunam/DVU-Challenge/HLVU/movie_knowledge_graph/honey/image/Person/  folder were previously stored in  representations_vgg_face.pkl . If you added new instances after this file creation, then please delete this file and call find function again. It will create it again.\n",
      "There are  54  representations found in  representations_vgg_face.pkl\n",
      "find function lasts  1.480583906173706  seconds\n",
      "WARNING: Representations for images in  /media/lkunam/DVU-Challenge/HLVU/movie_knowledge_graph/honey/image/Person/  folder were previously stored in  representations_vgg_face.pkl . If you added new instances after this file creation, then please delete this file and call find function again. It will create it again.\n",
      "There are  54  representations found in  representations_vgg_face.pkl\n",
      "WARNING: Representations for images in  /media/lkunam/DVU-Challenge/HLVU/movie_knowledge_graph/honey/image/Person/  folder were previously stored in  representations_vgg_face.pkl . If you added new instances after this file creation, then please delete this file and call find function again. It will create it again.\n",
      "There are  54  representations found in  representations_vgg_face.pkl\n",
      "WARNING: Representations for images in  /media/lkunam/DVU-Challenge/HLVU/movie_knowledge_graph/honey/image/Person/  folder were previously stored in  representations_vgg_face.pkl . If you added new instances after this file creation, then please delete this file and call find function again. It will create it again.\n",
      "There are  54  representations found in  representations_vgg_face.pkl\n"
     ]
    },
    {
     "name": "stderr",
     "output_type": "stream",
     "text": [
      "\r",
      " 83%|███████████████████████████████████▌       | 19/23 [28:23<03:25, 51.30s/it]"
     ]
    },
    {
     "name": "stdout",
     "output_type": "stream",
     "text": [
      "WARNING: Representations for images in  /media/lkunam/DVU-Challenge/HLVU/movie_knowledge_graph/honey/image/Person/  folder were previously stored in  representations_vgg_face.pkl . If you added new instances after this file creation, then please delete this file and call find function again. It will create it again.\n",
      "There are  54  representations found in  representations_vgg_face.pkl\n",
      "WARNING: Representations for images in  /media/lkunam/DVU-Challenge/HLVU/movie_knowledge_graph/honey/image/Person/  folder were previously stored in  representations_vgg_face.pkl . If you added new instances after this file creation, then please delete this file and call find function again. It will create it again.\n",
      "There are  54  representations found in  representations_vgg_face.pkl\n",
      "WARNING: Representations for images in  /media/lkunam/DVU-Challenge/HLVU/movie_knowledge_graph/honey/image/Person/  folder were previously stored in  representations_vgg_face.pkl . If you added new instances after this file creation, then please delete this file and call find function again. It will create it again.\n",
      "There are  54  representations found in  representations_vgg_face.pkl\n",
      "WARNING: Representations for images in  /media/lkunam/DVU-Challenge/HLVU/movie_knowledge_graph/honey/image/Person/  folder were previously stored in  representations_vgg_face.pkl . If you added new instances after this file creation, then please delete this file and call find function again. It will create it again.\n",
      "There are  54  representations found in  representations_vgg_face.pkl\n",
      "WARNING: Representations for images in  /media/lkunam/DVU-Challenge/HLVU/movie_knowledge_graph/honey/image/Person/  folder were previously stored in  representations_vgg_face.pkl . If you added new instances after this file creation, then please delete this file and call find function again. It will create it again.\n",
      "There are  54  representations found in  representations_vgg_face.pkl\n",
      "WARNING: Representations for images in  /media/lkunam/DVU-Challenge/HLVU/movie_knowledge_graph/honey/image/Person/  folder were previously stored in  representations_vgg_face.pkl . If you added new instances after this file creation, then please delete this file and call find function again. It will create it again.\n",
      "There are  54  representations found in  representations_vgg_face.pkl\n",
      "find function lasts  1.639328956604004  seconds\n",
      "WARNING: Representations for images in  /media/lkunam/DVU-Challenge/HLVU/movie_knowledge_graph/honey/image/Person/  folder were previously stored in  representations_vgg_face.pkl . If you added new instances after this file creation, then please delete this file and call find function again. It will create it again.\n",
      "There are  54  representations found in  representations_vgg_face.pkl\n",
      "WARNING: Representations for images in  /media/lkunam/DVU-Challenge/HLVU/movie_knowledge_graph/honey/image/Person/  folder were previously stored in  representations_vgg_face.pkl . If you added new instances after this file creation, then please delete this file and call find function again. It will create it again.\n",
      "There are  54  representations found in  representations_vgg_face.pkl\n"
     ]
    },
    {
     "name": "stderr",
     "output_type": "stream",
     "text": [
      "\r",
      " 87%|█████████████████████████████████████▍     | 20/23 [29:11<02:30, 50.15s/it]"
     ]
    },
    {
     "name": "stdout",
     "output_type": "stream",
     "text": [
      "WARNING: Representations for images in  /media/lkunam/DVU-Challenge/HLVU/movie_knowledge_graph/honey/image/Person/  folder were previously stored in  representations_vgg_face.pkl . If you added new instances after this file creation, then please delete this file and call find function again. It will create it again.\n",
      "There are  54  representations found in  representations_vgg_face.pkl\n",
      "WARNING: Representations for images in  /media/lkunam/DVU-Challenge/HLVU/movie_knowledge_graph/honey/image/Person/  folder were previously stored in  representations_vgg_face.pkl . If you added new instances after this file creation, then please delete this file and call find function again. It will create it again.\n",
      "There are  54  representations found in  representations_vgg_face.pkl\n",
      "WARNING: Representations for images in  /media/lkunam/DVU-Challenge/HLVU/movie_knowledge_graph/honey/image/Person/  folder were previously stored in  representations_vgg_face.pkl . If you added new instances after this file creation, then please delete this file and call find function again. It will create it again.\n",
      "There are  54  representations found in  representations_vgg_face.pkl\n",
      "find function lasts  1.672863245010376  seconds\n",
      "WARNING: Representations for images in  /media/lkunam/DVU-Challenge/HLVU/movie_knowledge_graph/honey/image/Person/  folder were previously stored in  representations_vgg_face.pkl . If you added new instances after this file creation, then please delete this file and call find function again. It will create it again.\n",
      "There are  54  representations found in  representations_vgg_face.pkl\n",
      "WARNING: Representations for images in  /media/lkunam/DVU-Challenge/HLVU/movie_knowledge_graph/honey/image/Person/  folder were previously stored in  representations_vgg_face.pkl . If you added new instances after this file creation, then please delete this file and call find function again. It will create it again.\n",
      "There are  54  representations found in  representations_vgg_face.pkl\n"
     ]
    },
    {
     "name": "stderr",
     "output_type": "stream",
     "text": [
      "\r",
      " 91%|███████████████████████████████████████▎   | 21/23 [29:44<01:30, 45.08s/it]"
     ]
    },
    {
     "name": "stdout",
     "output_type": "stream",
     "text": [
      "find function lasts  1.629289150238037  seconds\n",
      "WARNING: Representations for images in  /media/lkunam/DVU-Challenge/HLVU/movie_knowledge_graph/honey/image/Person/  folder were previously stored in  representations_vgg_face.pkl . If you added new instances after this file creation, then please delete this file and call find function again. It will create it again.\n",
      "There are  54  representations found in  representations_vgg_face.pkl\n",
      "find function lasts  1.6889252662658691  seconds\n",
      "WARNING: Representations for images in  /media/lkunam/DVU-Challenge/HLVU/movie_knowledge_graph/honey/image/Person/  folder were previously stored in  representations_vgg_face.pkl . If you added new instances after this file creation, then please delete this file and call find function again. It will create it again.\n",
      "There are  54  representations found in  representations_vgg_face.pkl\n",
      "WARNING: Representations for images in  /media/lkunam/DVU-Challenge/HLVU/movie_knowledge_graph/honey/image/Person/  folder were previously stored in  representations_vgg_face.pkl . If you added new instances after this file creation, then please delete this file and call find function again. It will create it again.\n",
      "There are  54  representations found in  representations_vgg_face.pkl\n",
      "find function lasts  1.7655482292175293  seconds\n",
      "WARNING: Representations for images in  /media/lkunam/DVU-Challenge/HLVU/movie_knowledge_graph/honey/image/Person/  folder were previously stored in  representations_vgg_face.pkl . If you added new instances after this file creation, then please delete this file and call find function again. It will create it again.\n",
      "There are  54  representations found in  representations_vgg_face.pkl\n",
      "WARNING: Representations for images in  /media/lkunam/DVU-Challenge/HLVU/movie_knowledge_graph/honey/image/Person/  folder were previously stored in  representations_vgg_face.pkl . If you added new instances after this file creation, then please delete this file and call find function again. It will create it again.\n",
      "There are  54  representations found in  representations_vgg_face.pkl\n",
      "WARNING: Representations for images in  /media/lkunam/DVU-Challenge/HLVU/movie_knowledge_graph/honey/image/Person/  folder were previously stored in  representations_vgg_face.pkl . If you added new instances after this file creation, then please delete this file and call find function again. It will create it again.\n",
      "There are  54  representations found in  representations_vgg_face.pkl\n",
      "WARNING: Representations for images in  /media/lkunam/DVU-Challenge/HLVU/movie_knowledge_graph/honey/image/Person/  folder were previously stored in  representations_vgg_face.pkl . If you added new instances after this file creation, then please delete this file and call find function again. It will create it again.\n",
      "There are  54  representations found in  representations_vgg_face.pkl\n",
      "WARNING: Representations for images in  /media/lkunam/DVU-Challenge/HLVU/movie_knowledge_graph/honey/image/Person/  folder were previously stored in  representations_vgg_face.pkl . If you added new instances after this file creation, then please delete this file and call find function again. It will create it again.\n",
      "There are  54  representations found in  representations_vgg_face.pkl\n",
      "WARNING: Representations for images in  /media/lkunam/DVU-Challenge/HLVU/movie_knowledge_graph/honey/image/Person/  folder were previously stored in  representations_vgg_face.pkl . If you added new instances after this file creation, then please delete this file and call find function again. It will create it again.\n",
      "There are  54  representations found in  representations_vgg_face.pkl\n"
     ]
    },
    {
     "name": "stderr",
     "output_type": "stream",
     "text": [
      "\r",
      " 96%|█████████████████████████████████████████▏ | 22/23 [30:22<00:43, 43.04s/it]"
     ]
    },
    {
     "name": "stdout",
     "output_type": "stream",
     "text": [
      "WARNING: Representations for images in  /media/lkunam/DVU-Challenge/HLVU/movie_knowledge_graph/honey/image/Person/  folder were previously stored in  representations_vgg_face.pkl . If you added new instances after this file creation, then please delete this file and call find function again. It will create it again.\n",
      "There are  54  representations found in  representations_vgg_face.pkl\n",
      "WARNING: Representations for images in  /media/lkunam/DVU-Challenge/HLVU/movie_knowledge_graph/honey/image/Person/  folder were previously stored in  representations_vgg_face.pkl . If you added new instances after this file creation, then please delete this file and call find function again. It will create it again.\n",
      "There are  54  representations found in  representations_vgg_face.pkl\n",
      "WARNING: Representations for images in  /media/lkunam/DVU-Challenge/HLVU/movie_knowledge_graph/honey/image/Person/  folder were previously stored in  representations_vgg_face.pkl . If you added new instances after this file creation, then please delete this file and call find function again. It will create it again.\n",
      "There are  54  representations found in  representations_vgg_face.pkl\n",
      "find function lasts  1.4570534229278564  seconds\n",
      "WARNING: Representations for images in  /media/lkunam/DVU-Challenge/HLVU/movie_knowledge_graph/honey/image/Person/  folder were previously stored in  representations_vgg_face.pkl . If you added new instances after this file creation, then please delete this file and call find function again. It will create it again.\n",
      "There are  54  representations found in  representations_vgg_face.pkl\n",
      "WARNING: Representations for images in  /media/lkunam/DVU-Challenge/HLVU/movie_knowledge_graph/honey/image/Person/  folder were previously stored in  representations_vgg_face.pkl . If you added new instances after this file creation, then please delete this file and call find function again. It will create it again.\n",
      "There are  54  representations found in  representations_vgg_face.pkl\n",
      "find function lasts  1.6742773056030273  seconds\n",
      "WARNING: Representations for images in  /media/lkunam/DVU-Challenge/HLVU/movie_knowledge_graph/honey/image/Person/  folder were previously stored in  representations_vgg_face.pkl . If you added new instances after this file creation, then please delete this file and call find function again. It will create it again.\n",
      "There are  54  representations found in  representations_vgg_face.pkl\n",
      "WARNING: Representations for images in  /media/lkunam/DVU-Challenge/HLVU/movie_knowledge_graph/honey/image/Person/  folder were previously stored in  representations_vgg_face.pkl . If you added new instances after this file creation, then please delete this file and call find function again. It will create it again.\n",
      "There are  54  representations found in  representations_vgg_face.pkl\n",
      "find function lasts  1.6396865844726562  seconds\n",
      "WARNING: Representations for images in  /media/lkunam/DVU-Challenge/HLVU/movie_knowledge_graph/honey/image/Person/  folder were previously stored in  representations_vgg_face.pkl . If you added new instances after this file creation, then please delete this file and call find function again. It will create it again.\n",
      "There are  54  representations found in  representations_vgg_face.pkl\n",
      "WARNING: Representations for images in  /media/lkunam/DVU-Challenge/HLVU/movie_knowledge_graph/honey/image/Person/  folder were previously stored in  representations_vgg_face.pkl . If you added new instances after this file creation, then please delete this file and call find function again. It will create it again.\n",
      "There are  54  representations found in  representations_vgg_face.pkl\n",
      "find function lasts  1.6581685543060303  seconds\n",
      "WARNING: Representations for images in  /media/lkunam/DVU-Challenge/HLVU/movie_knowledge_graph/honey/image/Person/  folder were previously stored in  representations_vgg_face.pkl . If you added new instances after this file creation, then please delete this file and call find function again. It will create it again.\n",
      "There are  54  representations found in  representations_vgg_face.pkl\n"
     ]
    },
    {
     "name": "stderr",
     "output_type": "stream",
     "text": [
      "100%|███████████████████████████████████████████| 23/23 [31:15<00:00, 81.55s/it]\n"
     ]
    }
   ],
   "source": [
    "img_path = \"/media/lkunam/DVU-Challenge/HLVU/keyframes/shot_keyf\"\n",
    "\n",
    "#for movies in os.listdir(img_path):\n",
    "backends = ['opencv', 'ssd', 'dlib', 'mtcnn', 'retinaface']\n",
    "\n",
    "\n",
    "movies = \"honey\"\n",
    "shotlist = os.listdir(f\"{img_path}/{movies}\")\n",
    "orderedshotlist = [i.partition('-')[2] for i in shotlist]\n",
    "for i in tqdm(range(len(shotlist))):\n",
    "    num = i+1\n",
    "    list_index = orderedshotlist.index(str(num))\n",
    "    shots = shotlist[list_index]\n",
    "    for shot in os.listdir(f\"{img_path}/{movies}/{shots}\"):\n",
    "        border_list = []\n",
    "        for image in os.listdir(f\"{img_path}/{movies}/{shots}/{shot}\"):\n",
    "            #print(image)\n",
    "            #print(f\"{img_path}/{movies}/{shots}/{shot}/{image}\")\n",
    "            resp = RetinaFace.detect_faces(f\"{img_path}/{movies}/{shots}/{shot}/{image}\")\n",
    "            #print(len(resp))\n",
    "            #print(resp)\n",
    "            if len(resp) > 0 and type(resp) == dict:\n",
    "                for face in resp:\n",
    "                    border = resp[face][\"facial_area\"]\n",
    "                    enlarged_border = enlargen_image(border)\n",
    "                    im = Image.open(f\"{img_path}/{movies}/{shots}/{shot}/{image}\")\n",
    "                    im1 = im.crop(enlarged_border)\n",
    "                    im1.save(\"cropped.jpg\")\n",
    "                    try:\n",
    "                        df = DeepFace.find(img_path = \"cropped.jpg\", db_path = f\"/media/lkunam/DVU-Challenge/HLVU/movie_knowledge_graph/{movies}/image/Person/\", detector_backend = backends[4])\n",
    "                        name_list = list(i[74:].partition('/')[0] for i in df[\"identity\"][:5])\n",
    "                        c = Counter(name_list)\n",
    "                        name, count = c.most_common()[0]\n",
    "                        if count > 2:\n",
    "                            #name = \"{img_path}/{movies}/{shots}/{shot}/{image}\"\n",
    "                            shutil.copyfile(\"cropped.jpg\", f\"/media/lkunam/DVU-Challenge/HLVU/movie_knowledge_graph/{movies}/image/Person/{name}/{name}_new_{image[:-4]}\")\n",
    "                            border_list.append([border,image,name])\n",
    "                        else:\n",
    "                            result_name = euclidean_distance_check(border, border_list)\n",
    "                            if result_name!=0:\n",
    "                                shutil.copyfile(\"cropped.jpg\", f\"/media/lkunam/DVU-Challenge/HLVU/movie_knowledge_graph/{movies}/image/Person/{result_name}/{result_name}_new_{image[:-4]}\")\n",
    "                                border_list.append([border,image,name])\n",
    "                            \n",
    "                    except ValueError:\n",
    "                        #print(\"No face was able to be matched\")\n",
    "                        result_name = euclidean_distance_check(border, border_list)\n",
    "                        if result_name!=0:\n",
    "                            shutil.copyfile(\"cropped.jpg\", f\"/media/lkunam/DVU-Challenge/HLVU/movie_knowledge_graph/{movies}/image/Person/{result_name}/{result_name}_new_{image[:-4]}\")\n",
    "                            border_list.append([border,image,name])\n",
    "                            \n",
    "    \n",
    "        \n",
    "            \n",
    "       "
   ]
  },
  {
   "cell_type": "code",
   "execution_count": 5,
   "id": "working-respect",
   "metadata": {},
   "outputs": [],
   "source": [
    "from retinaface import RetinaFace\n",
    "from PIL import Image\n",
    "\n",
    "resp = RetinaFace.detect_faces(\"test4.jpg\")\n",
    "resp2 = RetinaFace.detect_faces(\"test3.jpg\")"
   ]
  },
  {
   "cell_type": "code",
   "execution_count": 11,
   "id": "flexible-toilet",
   "metadata": {},
   "outputs": [
    {
     "data": {
      "text/plain": [
       "'shot_0007_img_1.jpg'"
      ]
     },
     "execution_count": 11,
     "metadata": {},
     "output_type": "execute_result"
    }
   ],
   "source": [
    "test = [([113, 78, 179, 144], 'shot_0007_img_1.jpg')]\n",
    "test[0][1]"
   ]
  },
  {
   "cell_type": "code",
   "execution_count": 34,
   "id": "beneficial-black",
   "metadata": {},
   "outputs": [
    {
     "name": "stdout",
     "output_type": "stream",
     "text": [
      "WARNING: Representations for images in  /media/lkunam/DVU-Challenge/HLVU/movie_knowledge_graph/honey/image/Person/  folder were previously stored in  representations_vgg_face.pkl . If you added new instances after this file creation, then please delete this file and call find function again. It will create it again.\n",
      "There are  54  representations found in  representations_vgg_face.pkl\n",
      "find function lasts  1.0203402042388916  seconds\n",
      "                                             identity  VGG-Face_cosine\n",
      "0   /media/lkunam/DVU-Challenge/HLVU/movie_knowled...         0.129817\n",
      "1   /media/lkunam/DVU-Challenge/HLVU/movie_knowled...         0.140347\n",
      "2   /media/lkunam/DVU-Challenge/HLVU/movie_knowled...         0.141711\n",
      "3   /media/lkunam/DVU-Challenge/HLVU/movie_knowled...         0.148530\n",
      "4   /media/lkunam/DVU-Challenge/HLVU/movie_knowled...         0.161477\n",
      "5   /media/lkunam/DVU-Challenge/HLVU/movie_knowled...         0.176883\n",
      "6   /media/lkunam/DVU-Challenge/HLVU/movie_knowled...         0.184768\n",
      "7   /media/lkunam/DVU-Challenge/HLVU/movie_knowled...         0.200456\n",
      "8   /media/lkunam/DVU-Challenge/HLVU/movie_knowled...         0.203399\n",
      "9   /media/lkunam/DVU-Challenge/HLVU/movie_knowled...         0.212865\n",
      "10  /media/lkunam/DVU-Challenge/HLVU/movie_knowled...         0.215820\n",
      "11  /media/lkunam/DVU-Challenge/HLVU/movie_knowled...         0.219838\n",
      "12  /media/lkunam/DVU-Challenge/HLVU/movie_knowled...         0.238261\n",
      "13  /media/lkunam/DVU-Challenge/HLVU/movie_knowled...         0.238426\n",
      "14  /media/lkunam/DVU-Challenge/HLVU/movie_knowled...         0.246649\n",
      "15  /media/lkunam/DVU-Challenge/HLVU/movie_knowled...         0.269206\n",
      "16  /media/lkunam/DVU-Challenge/HLVU/movie_knowled...         0.270581\n",
      "17  /media/lkunam/DVU-Challenge/HLVU/movie_knowled...         0.271318\n",
      "18  /media/lkunam/DVU-Challenge/HLVU/movie_knowled...         0.277848\n",
      "19  /media/lkunam/DVU-Challenge/HLVU/movie_knowled...         0.278067\n",
      "20  /media/lkunam/DVU-Challenge/HLVU/movie_knowled...         0.282409\n",
      "21  /media/lkunam/DVU-Challenge/HLVU/movie_knowled...         0.284266\n",
      "22  /media/lkunam/DVU-Challenge/HLVU/movie_knowled...         0.284671\n",
      "23  /media/lkunam/DVU-Challenge/HLVU/movie_knowled...         0.295406\n",
      "24  /media/lkunam/DVU-Challenge/HLVU/movie_knowled...         0.295559\n",
      "25  /media/lkunam/DVU-Challenge/HLVU/movie_knowled...         0.306128\n",
      "26  /media/lkunam/DVU-Challenge/HLVU/movie_knowled...         0.306250\n",
      "27  /media/lkunam/DVU-Challenge/HLVU/movie_knowled...         0.314273\n",
      "28  /media/lkunam/DVU-Challenge/HLVU/movie_knowled...         0.336661\n",
      "29  /media/lkunam/DVU-Challenge/HLVU/movie_knowled...         0.339905\n",
      "30  /media/lkunam/DVU-Challenge/HLVU/movie_knowled...         0.355958\n",
      "31  /media/lkunam/DVU-Challenge/HLVU/movie_knowled...         0.363740\n",
      "32  /media/lkunam/DVU-Challenge/HLVU/movie_knowled...         0.367798\n",
      "33  /media/lkunam/DVU-Challenge/HLVU/movie_knowled...         0.368946\n",
      "34  /media/lkunam/DVU-Challenge/HLVU/movie_knowled...         0.370828\n",
      "35  /media/lkunam/DVU-Challenge/HLVU/movie_knowled...         0.373541\n",
      "36  /media/lkunam/DVU-Challenge/HLVU/movie_knowled...         0.375233\n",
      "37  /media/lkunam/DVU-Challenge/HLVU/movie_knowled...         0.384606\n"
     ]
    }
   ],
   "source": [
    "from deepface import DeepFace\n",
    "import os\n",
    "\n",
    "backends = ['opencv', 'ssd', 'dlib', 'mtcnn', 'retinaface']\n",
    "\n",
    "df = DeepFace.find(img_path = \"/media/lkunam/DVU-Challenge/HLVU/movie_knowledge_graph/honey/image/Person/Mike/Mike_new_shot_0007_img_1.jpg\", db_path = \"/media/lkunam/DVU-Challenge/HLVU/movie_knowledge_graph/honey/image/Person/\", detector_backend = backends[4])\n",
    "print(df)"
   ]
  },
  {
   "cell_type": "code",
   "execution_count": 37,
   "id": "aggregate-liberia",
   "metadata": {},
   "outputs": [
    {
     "data": {
      "text/plain": [
       "['/media/lkunam/DVU-Challenge/HLVU/movie_knowledge_graph/honey/image/Person/Mike/Mike_6.png',\n",
       " '/media/lkunam/DVU-Challenge/HLVU/movie_knowledge_graph/honey/image/Person/Mike/Mike_4.png',\n",
       " '/media/lkunam/DVU-Challenge/HLVU/movie_knowledge_graph/honey/image/Person/Sharon/Sharon_2.png',\n",
       " '/media/lkunam/DVU-Challenge/HLVU/movie_knowledge_graph/honey/image/Person/Kath/Kath_4.png',\n",
       " '/media/lkunam/DVU-Challenge/HLVU/movie_knowledge_graph/honey/image/Person/Kath/Kath_3.png',\n",
       " '/media/lkunam/DVU-Challenge/HLVU/movie_knowledge_graph/honey/image/Person/John/John_2.png',\n",
       " '/media/lkunam/DVU-Challenge/HLVU/movie_knowledge_graph/honey/image/Person/Mike/Mike_5.png',\n",
       " '/media/lkunam/DVU-Challenge/HLVU/movie_knowledge_graph/honey/image/Person/Raj/Raj_3.png',\n",
       " '/media/lkunam/DVU-Challenge/HLVU/movie_knowledge_graph/honey/image/Person/Sharon/Sharon_4.png',\n",
       " '/media/lkunam/DVU-Challenge/HLVU/movie_knowledge_graph/honey/image/Person/John/John_5.png']"
      ]
     },
     "execution_count": 37,
     "metadata": {},
     "output_type": "execute_result"
    }
   ],
   "source": [
    "list(df[\"identity\"][:10])"
   ]
  },
  {
   "cell_type": "code",
   "execution_count": 25,
   "id": "related-mechanism",
   "metadata": {},
   "outputs": [],
   "source": [
    "from collections import Counter\n",
    "\n",
    "name_list = list(i[74:].partition('/')[0] for i in df[\"identity\"][:5])\n",
    "c = Counter(name_list)\n",
    "value, count = c.most_common()[0]\n"
   ]
  },
  {
   "cell_type": "code",
   "execution_count": 28,
   "id": "lined-species",
   "metadata": {},
   "outputs": [
    {
     "data": {
      "text/plain": [
       "[('Marty', 4), ('John', 1)]"
      ]
     },
     "execution_count": 28,
     "metadata": {},
     "output_type": "execute_result"
    }
   ],
   "source": [
    "c.most_common()"
   ]
  },
  {
   "cell_type": "code",
   "execution_count": 39,
   "id": "bulgarian-globe",
   "metadata": {},
   "outputs": [
    {
     "name": "stderr",
     "output_type": "stream",
     "text": [
      "Action: emotion: 100%|██████████| 4/4 [00:00<00:00,  7.91it/s]\n"
     ]
    }
   ],
   "source": [
    "obj = DeepFace.analyze(img_path = \"../../images/apes.png\", actions = ['age', 'gender', 'race', 'emotion'],enforce_detection = False)\n"
   ]
  },
  {
   "cell_type": "code",
   "execution_count": 40,
   "id": "vocational-elimination",
   "metadata": {},
   "outputs": [
    {
     "name": "stdout",
     "output_type": "stream",
     "text": [
      "{'age': 33, 'region': {'x': 0, 'y': 0, 'w': 624, 'h': 654}, 'gender': 'Man', 'race': {'asian': 2.6672628905544116e-05, 'indian': 0.0005696684183931211, 'black': 99.99924898147583, 'white': 2.11046757847555e-07, 'middle eastern': 3.3012492739459276e-07, 'latino hispanic': 0.0001600061636963801}, 'dominant_race': 'black', 'emotion': {'angry': 0.0011470142453617882, 'disgust': 2.4058101644186536e-05, 'fear': 0.01726231857901439, 'happy': 1.3578493148088455, 'sad': 97.93298840522766, 'surprise': 3.2087912188449863e-09, 'neutral': 0.6907255854457617}, 'dominant_emotion': 'sad'}\n"
     ]
    }
   ],
   "source": [
    "print(obj)"
   ]
  },
  {
   "cell_type": "code",
   "execution_count": 7,
   "id": "thrown-mills",
   "metadata": {},
   "outputs": [
    {
     "data": {
      "text/plain": [
       "'Mike'"
      ]
     },
     "execution_count": 7,
     "metadata": {},
     "output_type": "execute_result"
    }
   ],
   "source": [
    "text = \"/media/lkunam/DVU-Challenge/HLVU/movie_knowledge_graph/honey/image/Person/Mike/Mike_6.png\"\n",
    "text[74:].partition('/')[0]"
   ]
  }
 ],
 "metadata": {
  "kernelspec": {
   "display_name": "deepface",
   "language": "python",
   "name": "myenv"
  },
  "language_info": {
   "codemirror_mode": {
    "name": "ipython",
    "version": 3
   },
   "file_extension": ".py",
   "mimetype": "text/x-python",
   "name": "python",
   "nbconvert_exporter": "python",
   "pygments_lexer": "ipython3",
   "version": "3.9.7"
  }
 },
 "nbformat": 4,
 "nbformat_minor": 5
}
