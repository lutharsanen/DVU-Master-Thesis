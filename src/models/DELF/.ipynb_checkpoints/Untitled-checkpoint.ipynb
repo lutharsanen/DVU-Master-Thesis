{
 "cells": [
  {
   "cell_type": "code",
   "execution_count": 29,
   "id": "disabled-happening",
   "metadata": {},
   "outputs": [],
   "source": [
    "from absl import logging\n",
    "\n",
    "#import matplotlib.pyplot as plt\n",
    "import numpy as np\n",
    "from scipy.spatial import cKDTree\n",
    "from skimage.feature import plot_matches\n",
    "from skimage.measure import ransac\n",
    "from skimage.transform import AffineTransform\n",
    "from six import BytesIO\n",
    "import tensorflow as tf\n",
    "from PIL import Image, ImageOps\n",
    "import matplotlib.pyplot as plt\n",
    "\n",
    "import tensorflow_hub as hub"
   ]
  },
  {
   "cell_type": "code",
   "execution_count": 30,
   "id": "dutch-beach",
   "metadata": {},
   "outputs": [],
   "source": [
    "def download_and_resize(path, new_width=256, new_height=256):\n",
    "    image = Image.open(path)\n",
    "    if np.array(image).shape[2] != 3:\n",
    "        image = image.convert('RGB')\n",
    "    image = ImageOps.fit(image, (new_width, new_height), Image.ANTIALIAS)\n",
    "    return image\n",
    "\n",
    "def run_delf(image):\n",
    "    delf = hub.load('https://tfhub.dev/google/delf/1').signatures['default']\n",
    "    np_image = np.array(image)\n",
    "    float_image = tf.image.convert_image_dtype(np_image, tf.float32)\n",
    "    print(float_image.shape)\n",
    "    \n",
    "\n",
    "    return delf(\n",
    "      image=float_image,\n",
    "      score_threshold=tf.constant(100.0),\n",
    "      image_scales=tf.constant([0.25, 0.3536, 0.5, 0.7071, 1.0, 1.4142, 2.0]),\n",
    "      max_feature_num=tf.constant(1000))"
   ]
  },
  {
   "cell_type": "code",
   "execution_count": 31,
   "id": "promotional-future",
   "metadata": {},
   "outputs": [],
   "source": [
    "image1 = download_and_resize(\"test2.jpg\")\n",
    "image2 = download_and_resize(\"test3.png\")"
   ]
  },
  {
   "cell_type": "code",
   "execution_count": 32,
   "id": "involved-amazon",
   "metadata": {},
   "outputs": [
    {
     "name": "stdout",
     "output_type": "stream",
     "text": [
      "(256, 256, 3)\n",
      "(256, 256, 3)\n"
     ]
    }
   ],
   "source": [
    "result1 = run_delf(image1)\n",
    "result2 = run_delf(image2)"
   ]
  },
  {
   "cell_type": "code",
   "execution_count": 33,
   "id": "clean-outline",
   "metadata": {},
   "outputs": [],
   "source": [
    "distance_threshold = 0.8\n",
    "# Read features.\n",
    "num_features_1 = result1['locations'].shape[0]\n",
    "#print(\"Loaded image 1's %d features\" % num_features_1)    \n",
    "num_features_2 = result2['locations'].shape[0]\n",
    "#print(\"Loaded image 2's %d features\" % num_features_2)\n",
    "\n",
    "# Find nearest-neighbor matches using a KD tree.\n",
    "d1_tree = cKDTree(result1['descriptors'])\n",
    "_, indices = d1_tree.query(\n",
    "    result2['descriptors'],\n",
    "    distance_upper_bound=distance_threshold\n",
    ")"
   ]
  },
  {
   "cell_type": "code",
   "execution_count": 37,
   "id": "stylish-stevens",
   "metadata": {},
   "outputs": [
    {
     "name": "stdout",
     "output_type": "stream",
     "text": [
      "Found 0 inliers\n"
     ]
    }
   ],
   "source": [
    "# Select feature locations for putative matches.\n",
    "locations_2_to_use = np.array([\n",
    "    result2['locations'][i,]\n",
    "    for i in range(num_features_2)\n",
    "    if indices[i] != num_features_1\n",
    "])\n",
    "locations_1_to_use = np.array([\n",
    "    result1['locations'][indices[i],]\n",
    "    for i in range(num_features_2)\n",
    "    if indices[i] != num_features_1\n",
    "])\n",
    "\n",
    "if len(locations_2_to_use) == 0 or (len(locations_1_to_use)):\n",
    "        print('Found 0 inliers')"
   ]
  },
  {
   "cell_type": "code",
   "execution_count": 39,
   "id": "descending-blogger",
   "metadata": {},
   "outputs": [
    {
     "name": "stdout",
     "output_type": "stream",
     "text": [
      "Found 0 inliers\n"
     ]
    }
   ],
   "source": [
    "if len(locations_2_to_use) == 0 or (len(locations_1_to_use)):\n",
    "        print('Found 0 inliers')\n",
    "else:\n",
    "# Perform geometric verification using RANSAC.\n",
    "    _, inliers = ransac(\n",
    "        (locations_1_to_use, locations_2_to_use),\n",
    "        AffineTransform,\n",
    "        min_samples=3,\n",
    "        residual_threshold=20,\n",
    "        max_trials=1000)"
   ]
  },
  {
   "cell_type": "code",
   "execution_count": 44,
   "id": "suspended-creativity",
   "metadata": {},
   "outputs": [
    {
     "ename": "IndexError",
     "evalue": "too many indices for array: array is 1-dimensional, but 2 were indexed",
     "output_type": "error",
     "traceback": [
      "\u001b[0;31m---------------------------------------------------------------------------\u001b[0m",
      "\u001b[0;31mIndexError\u001b[0m                                Traceback (most recent call last)",
      "Input \u001b[0;32mIn [44]\u001b[0m, in \u001b[0;36m<module>\u001b[0;34m\u001b[0m\n\u001b[1;32m      2\u001b[0m _, ax \u001b[38;5;241m=\u001b[39m plt\u001b[38;5;241m.\u001b[39msubplots()\n\u001b[1;32m      3\u001b[0m inlier_idxs \u001b[38;5;241m=\u001b[39m np\u001b[38;5;241m.\u001b[39mnonzero(inliers)[\u001b[38;5;241m0\u001b[39m]\n\u001b[0;32m----> 4\u001b[0m \u001b[43mplot_matches\u001b[49m\u001b[43m(\u001b[49m\n\u001b[1;32m      5\u001b[0m \u001b[43m      \u001b[49m\u001b[43max\u001b[49m\u001b[43m,\u001b[49m\n\u001b[1;32m      6\u001b[0m \u001b[43m      \u001b[49m\u001b[43mimage1\u001b[49m\u001b[43m,\u001b[49m\n\u001b[1;32m      7\u001b[0m \u001b[43m      \u001b[49m\u001b[43mimage2\u001b[49m\u001b[43m,\u001b[49m\n\u001b[1;32m      8\u001b[0m \u001b[43m      \u001b[49m\u001b[43mlocations_1_to_use\u001b[49m\u001b[43m,\u001b[49m\n\u001b[1;32m      9\u001b[0m \u001b[43m      \u001b[49m\u001b[43mlocations_2_to_use\u001b[49m\u001b[43m,\u001b[49m\n\u001b[1;32m     10\u001b[0m \u001b[43m      \u001b[49m\u001b[43m[\u001b[49m\u001b[43m]\u001b[49m\u001b[43m,\u001b[49m\n\u001b[1;32m     11\u001b[0m \u001b[43m      \u001b[49m\u001b[43mmatches_color\u001b[49m\u001b[38;5;241;43m=\u001b[39;49m\u001b[38;5;124;43m'\u001b[39;49m\u001b[38;5;124;43mb\u001b[39;49m\u001b[38;5;124;43m'\u001b[39;49m\u001b[43m)\u001b[49m\n\u001b[1;32m     12\u001b[0m ax\u001b[38;5;241m.\u001b[39maxis(\u001b[38;5;124m'\u001b[39m\u001b[38;5;124moff\u001b[39m\u001b[38;5;124m'\u001b[39m)\n\u001b[1;32m     13\u001b[0m ax\u001b[38;5;241m.\u001b[39mset_title(\u001b[38;5;124m'\u001b[39m\u001b[38;5;124mDELF correspondences\u001b[39m\u001b[38;5;124m'\u001b[39m)\n",
      "File \u001b[0;32m/media/lkunam/DVU-Challenge/DVU-Master-Thesis/src/models/deepface/deepface/lib/python3.9/site-packages/skimage/feature/util.py:117\u001b[0m, in \u001b[0;36mplot_matches\u001b[0;34m(ax, image1, image2, keypoints1, keypoints2, matches, keypoints_color, matches_color, only_matches, alignment)\u001b[0m\n\u001b[1;32m    114\u001b[0m     \u001b[38;5;28;01mraise\u001b[39;00m \u001b[38;5;167;01mValueError\u001b[39;00m(mesg)\n\u001b[1;32m    116\u001b[0m \u001b[38;5;28;01mif\u001b[39;00m \u001b[38;5;129;01mnot\u001b[39;00m only_matches:\n\u001b[0;32m--> 117\u001b[0m     ax\u001b[38;5;241m.\u001b[39mscatter(\u001b[43mkeypoints1\u001b[49m\u001b[43m[\u001b[49m\u001b[43m:\u001b[49m\u001b[43m,\u001b[49m\u001b[43m \u001b[49m\u001b[38;5;241;43m1\u001b[39;49m\u001b[43m]\u001b[49m, keypoints1[:, \u001b[38;5;241m0\u001b[39m],\n\u001b[1;32m    118\u001b[0m                facecolors\u001b[38;5;241m=\u001b[39m\u001b[38;5;124m'\u001b[39m\u001b[38;5;124mnone\u001b[39m\u001b[38;5;124m'\u001b[39m, edgecolors\u001b[38;5;241m=\u001b[39mkeypoints_color)\n\u001b[1;32m    119\u001b[0m     ax\u001b[38;5;241m.\u001b[39mscatter(keypoints2[:, \u001b[38;5;241m1\u001b[39m] \u001b[38;5;241m+\u001b[39m offset[\u001b[38;5;241m1\u001b[39m], keypoints2[:, \u001b[38;5;241m0\u001b[39m] \u001b[38;5;241m+\u001b[39m offset[\u001b[38;5;241m0\u001b[39m],\n\u001b[1;32m    120\u001b[0m                facecolors\u001b[38;5;241m=\u001b[39m\u001b[38;5;124m'\u001b[39m\u001b[38;5;124mnone\u001b[39m\u001b[38;5;124m'\u001b[39m, edgecolors\u001b[38;5;241m=\u001b[39mkeypoints_color)\n\u001b[1;32m    122\u001b[0m ax\u001b[38;5;241m.\u001b[39mimshow(image, cmap\u001b[38;5;241m=\u001b[39m\u001b[38;5;124m'\u001b[39m\u001b[38;5;124mgray\u001b[39m\u001b[38;5;124m'\u001b[39m)\n",
      "\u001b[0;31mIndexError\u001b[0m: too many indices for array: array is 1-dimensional, but 2 were indexed"
     ]
    },
    {
     "data": {
      "image/png": "[encoded data removed]",
      "text/plain": [
       "<Figure size 432x288 with 1 Axes>"
      ]
     },
     "metadata": {
      "needs_background": "light"
     },
     "output_type": "display_data"
    }
   ],
   "source": [
    "# Visualize correspondences.\n",
    "_, ax = plt.subplots()\n",
    "inlier_idxs = np.nonzero(inliers)[0]\n",
    "plot_matches(\n",
    "      ax,\n",
    "      image1,\n",
    "      image2,\n",
    "      locations_1_to_use,\n",
    "      locations_2_to_use,\n",
    "      np.column_stack((inlier_idxs, inlier_idxs)),\n",
    "      matches_color='b')\n",
    "ax.axis('off')\n",
    "ax.set_title('DELF correspondences')"
   ]
  },
  {
   "cell_type": "code",
   "execution_count": null,
   "id": "unavailable-aruba",
   "metadata": {},
   "outputs": [],
   "source": []
  }
 ],
 "metadata": {
  "kernelspec": {
   "display_name": "deepface",
   "language": "python",
   "name": "myenv"
  },
  "language_info": {
   "codemirror_mode": {
    "name": "ipython",
    "version": 3
   },
   "file_extension": ".py",
   "mimetype": "text/x-python",
   "name": "python",
   "nbconvert_exporter": "python",
   "pygments_lexer": "ipython3",
   "version": "3.9.7"
  }
 },
 "nbformat": 4,
 "nbformat_minor": 5
}
